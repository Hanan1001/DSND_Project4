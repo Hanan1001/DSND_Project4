{
 "cells": [
  {
   "cell_type": "markdown",
   "metadata": {},
   "source": [
    "# DSND Project 4: An insight on Seattle’s Airbnb by Kaggle"
   ]
  },
  {
   "cell_type": "markdown",
   "metadata": {},
   "source": [
    "## Investigating business requirements\n",
    "\n",
    "The Seattle AirBnB websitw Dataset consists data about AirBnB website listing in Seattle, WA. Listing such as avalibility time for the listings, pricings and reviews and ratings. To be alighned with the Rubic we will seek to answer the following business questions:\n",
    "\n",
    "**What do the reviews data mean? and what can you understand from them?**\n",
    "\n",
    "Things we need to consider the following:\n",
    "1. Explore the best/ worst reviews \n",
    "2. Rank reviews and understand rankings \n",
    "3. Categorize reviews based on postives and negatives \n",
    "4. Explore review neighberhood to find patterns\n",
    "5. Overall, conduct a sentiment(postive/negative reviews) anaysis.\n",
    "\n",
    "**What are the latest pricing trends? are there certain peak seasons?**\n",
    "\n",
    "Things we need to consider the following:\n",
    "1. Study the seasons and find the peak season \n",
    "2. inspect prices increase/decrease per season\n",
    "\n",
    "\n",
    "**Can you predict future pricings?**\n",
    "\n",
    "Things we need to consider the following:\n",
    "1. investigate pricing increace/decrease pattern \n",
    "2. Correlate pricing factors\n",
    "\n",
    "\n",
    "So, we will take you on a data journey where we understand data, preprocess it and later do our model magic ~ \n",
    "lets go \n"
   ]
  },
  {
   "cell_type": "markdown",
   "metadata": {},
   "source": [
    "### Getting to know our data\n",
    "Lets start by understanding the dataset we have and getting more insight"
   ]
  },
  {
   "cell_type": "code",
   "execution_count": 502,
   "metadata": {},
   "outputs": [],
   "source": [
    "# first off as with every project we start with import statments \n",
    "# lets import packages we need for this project \n",
    "import pandas as pd\n",
    "import numpy as np\n",
    "import matplotlib.pyplot as plt\n",
    "from sklearn.ensemble import RandomForestClassifier\n",
    "import seaborn as sns\n",
    "import copy\n",
    "import nltk\n",
    "from collections import Counter\n",
    "from sklearn.model_selection import train_test_split\n",
    "from sklearn.linear_model import LogisticRegression, LinearRegression\n",
    "from sklearn.metrics import f1_score, r2_score\n",
    "from sklearn.metrics import classification_report\n",
    "from sklearn.metrics import roc_curve, auc\n",
    "from sklearn.model_selection import cross_val_score\n",
    "from sklearn.metrics import classification_report, confusion_matrix\n",
    "from sklearn.ensemble import RandomForestRegressor\n",
    "from IPython import display\n",
    "from nltk.sentiment.vader import SentimentIntensityAnalyzer\n",
    "%matplotlib inline\n"
   ]
  },
  {
   "cell_type": "code",
   "execution_count": 431,
   "metadata": {},
   "outputs": [],
   "source": [
    "# lets import the CSV files \n",
    "calendar_df = pd.read_csv(\"calendar.csv\")\n",
    "listings_df = pd.read_csv(\"listings.csv\")\n",
    "reviews_df = pd.read_csv(\"reviews.csv\")"
   ]
  },
  {
   "cell_type": "code",
   "execution_count": 432,
   "metadata": {},
   "outputs": [
    {
     "name": "stdout",
     "output_type": "stream",
     "text": [
      "Calender Data\n",
      "---------\n"
     ]
    },
    {
     "data": {
      "text/html": [
       "<div>\n",
       "<style scoped>\n",
       "    .dataframe tbody tr th:only-of-type {\n",
       "        vertical-align: middle;\n",
       "    }\n",
       "\n",
       "    .dataframe tbody tr th {\n",
       "        vertical-align: top;\n",
       "    }\n",
       "\n",
       "    .dataframe thead th {\n",
       "        text-align: right;\n",
       "    }\n",
       "</style>\n",
       "<table border=\"1\" class=\"dataframe\">\n",
       "  <thead>\n",
       "    <tr style=\"text-align: right;\">\n",
       "      <th></th>\n",
       "      <th>listing_id</th>\n",
       "      <th>date</th>\n",
       "      <th>available</th>\n",
       "      <th>price</th>\n",
       "    </tr>\n",
       "  </thead>\n",
       "  <tbody>\n",
       "    <tr>\n",
       "      <th>0</th>\n",
       "      <td>241032</td>\n",
       "      <td>2016-01-04</td>\n",
       "      <td>t</td>\n",
       "      <td>$85.00</td>\n",
       "    </tr>\n",
       "    <tr>\n",
       "      <th>1</th>\n",
       "      <td>241032</td>\n",
       "      <td>2016-01-05</td>\n",
       "      <td>t</td>\n",
       "      <td>$85.00</td>\n",
       "    </tr>\n",
       "    <tr>\n",
       "      <th>2</th>\n",
       "      <td>241032</td>\n",
       "      <td>2016-01-06</td>\n",
       "      <td>f</td>\n",
       "      <td>NaN</td>\n",
       "    </tr>\n",
       "    <tr>\n",
       "      <th>3</th>\n",
       "      <td>241032</td>\n",
       "      <td>2016-01-07</td>\n",
       "      <td>f</td>\n",
       "      <td>NaN</td>\n",
       "    </tr>\n",
       "    <tr>\n",
       "      <th>4</th>\n",
       "      <td>241032</td>\n",
       "      <td>2016-01-08</td>\n",
       "      <td>f</td>\n",
       "      <td>NaN</td>\n",
       "    </tr>\n",
       "  </tbody>\n",
       "</table>\n",
       "</div>"
      ],
      "text/plain": [
       "   listing_id        date available   price\n",
       "0      241032  2016-01-04         t  $85.00\n",
       "1      241032  2016-01-05         t  $85.00\n",
       "2      241032  2016-01-06         f     NaN\n",
       "3      241032  2016-01-07         f     NaN\n",
       "4      241032  2016-01-08         f     NaN"
      ]
     },
     "execution_count": 432,
     "metadata": {},
     "output_type": "execute_result"
    }
   ],
   "source": [
    "# lets expolore imported files \n",
    "print(\"Calender Data\")\n",
    "print(\"---------\")\n",
    "calendar_df.head()"
   ]
  },
  {
   "cell_type": "code",
   "execution_count": 433,
   "metadata": {},
   "outputs": [
    {
     "name": "stdout",
     "output_type": "stream",
     "text": [
      "Data rows/columns\n",
      "(1393570, 4)\n"
     ]
    }
   ],
   "source": [
    "print(\"Data rows/columns\")\n",
    "print(calendar_df.shape)"
   ]
  },
  {
   "cell_type": "code",
   "execution_count": 434,
   "metadata": {},
   "outputs": [
    {
     "name": "stdout",
     "output_type": "stream",
     "text": [
      "<class 'pandas.core.frame.DataFrame'>\n",
      "RangeIndex: 1393570 entries, 0 to 1393569\n",
      "Data columns (total 4 columns):\n",
      "listing_id    1393570 non-null int64\n",
      "date          1393570 non-null object\n",
      "available     1393570 non-null object\n",
      "price         934542 non-null object\n",
      "dtypes: int64(1), object(3)\n",
      "memory usage: 42.5+ MB\n"
     ]
    }
   ],
   "source": [
    "calendar_df.info()"
   ]
  },
  {
   "cell_type": "code",
   "execution_count": 435,
   "metadata": {},
   "outputs": [
    {
     "name": "stdout",
     "output_type": "stream",
     "text": [
      "Null values in calender dataframe\n"
     ]
    },
    {
     "data": {
      "text/plain": [
       "listing_id         0\n",
       "date               0\n",
       "available          0\n",
       "price         459028\n",
       "dtype: int64"
      ]
     },
     "execution_count": 435,
     "metadata": {},
     "output_type": "execute_result"
    }
   ],
   "source": [
    "# our data seems to have NaN, lets assess null values\n",
    "print(\"Null values in calender dataframe\")\n",
    "nulls = calendar_df.isnull().sum()\n",
    "nulls[nulls > 0].sort_values(ascending=False)\n",
    "nulls"
   ]
  },
  {
   "cell_type": "markdown",
   "metadata": {},
   "source": [
    "#### Conclusion: \n",
    "This Dataset needs to be cleansed. As we can see pricing has missing data this could be possibly impacted by weekends or seasonal holidays. "
   ]
  },
  {
   "cell_type": "code",
   "execution_count": 436,
   "metadata": {},
   "outputs": [
    {
     "name": "stdout",
     "output_type": "stream",
     "text": [
      "Listing Data\n",
      "---------\n"
     ]
    },
    {
     "data": {
      "text/html": [
       "<div>\n",
       "<style scoped>\n",
       "    .dataframe tbody tr th:only-of-type {\n",
       "        vertical-align: middle;\n",
       "    }\n",
       "\n",
       "    .dataframe tbody tr th {\n",
       "        vertical-align: top;\n",
       "    }\n",
       "\n",
       "    .dataframe thead th {\n",
       "        text-align: right;\n",
       "    }\n",
       "</style>\n",
       "<table border=\"1\" class=\"dataframe\">\n",
       "  <thead>\n",
       "    <tr style=\"text-align: right;\">\n",
       "      <th></th>\n",
       "      <th>id</th>\n",
       "      <th>listing_url</th>\n",
       "      <th>scrape_id</th>\n",
       "      <th>last_scraped</th>\n",
       "      <th>name</th>\n",
       "      <th>summary</th>\n",
       "      <th>space</th>\n",
       "      <th>description</th>\n",
       "      <th>experiences_offered</th>\n",
       "      <th>neighborhood_overview</th>\n",
       "      <th>...</th>\n",
       "      <th>review_scores_value</th>\n",
       "      <th>requires_license</th>\n",
       "      <th>license</th>\n",
       "      <th>jurisdiction_names</th>\n",
       "      <th>instant_bookable</th>\n",
       "      <th>cancellation_policy</th>\n",
       "      <th>require_guest_profile_picture</th>\n",
       "      <th>require_guest_phone_verification</th>\n",
       "      <th>calculated_host_listings_count</th>\n",
       "      <th>reviews_per_month</th>\n",
       "    </tr>\n",
       "  </thead>\n",
       "  <tbody>\n",
       "    <tr>\n",
       "      <th>0</th>\n",
       "      <td>241032</td>\n",
       "      <td>https://www.airbnb.com/rooms/241032</td>\n",
       "      <td>20160104002432</td>\n",
       "      <td>2016-01-04</td>\n",
       "      <td>Stylish Queen Anne Apartment</td>\n",
       "      <td>NaN</td>\n",
       "      <td>Make your self at home in this charming one-be...</td>\n",
       "      <td>Make your self at home in this charming one-be...</td>\n",
       "      <td>none</td>\n",
       "      <td>NaN</td>\n",
       "      <td>...</td>\n",
       "      <td>10.0</td>\n",
       "      <td>f</td>\n",
       "      <td>NaN</td>\n",
       "      <td>WASHINGTON</td>\n",
       "      <td>f</td>\n",
       "      <td>moderate</td>\n",
       "      <td>f</td>\n",
       "      <td>f</td>\n",
       "      <td>2</td>\n",
       "      <td>4.07</td>\n",
       "    </tr>\n",
       "    <tr>\n",
       "      <th>1</th>\n",
       "      <td>953595</td>\n",
       "      <td>https://www.airbnb.com/rooms/953595</td>\n",
       "      <td>20160104002432</td>\n",
       "      <td>2016-01-04</td>\n",
       "      <td>Bright &amp; Airy Queen Anne Apartment</td>\n",
       "      <td>Chemically sensitive? We've removed the irrita...</td>\n",
       "      <td>Beautiful, hypoallergenic apartment in an extr...</td>\n",
       "      <td>Chemically sensitive? We've removed the irrita...</td>\n",
       "      <td>none</td>\n",
       "      <td>Queen Anne is a wonderful, truly functional vi...</td>\n",
       "      <td>...</td>\n",
       "      <td>10.0</td>\n",
       "      <td>f</td>\n",
       "      <td>NaN</td>\n",
       "      <td>WASHINGTON</td>\n",
       "      <td>f</td>\n",
       "      <td>strict</td>\n",
       "      <td>t</td>\n",
       "      <td>t</td>\n",
       "      <td>6</td>\n",
       "      <td>1.48</td>\n",
       "    </tr>\n",
       "    <tr>\n",
       "      <th>2</th>\n",
       "      <td>3308979</td>\n",
       "      <td>https://www.airbnb.com/rooms/3308979</td>\n",
       "      <td>20160104002432</td>\n",
       "      <td>2016-01-04</td>\n",
       "      <td>New Modern House-Amazing water view</td>\n",
       "      <td>New modern house built in 2013.  Spectacular s...</td>\n",
       "      <td>Our house is modern, light and fresh with a wa...</td>\n",
       "      <td>New modern house built in 2013.  Spectacular s...</td>\n",
       "      <td>none</td>\n",
       "      <td>Upper Queen Anne is a charming neighborhood fu...</td>\n",
       "      <td>...</td>\n",
       "      <td>10.0</td>\n",
       "      <td>f</td>\n",
       "      <td>NaN</td>\n",
       "      <td>WASHINGTON</td>\n",
       "      <td>f</td>\n",
       "      <td>strict</td>\n",
       "      <td>f</td>\n",
       "      <td>f</td>\n",
       "      <td>2</td>\n",
       "      <td>1.15</td>\n",
       "    </tr>\n",
       "    <tr>\n",
       "      <th>3</th>\n",
       "      <td>7421966</td>\n",
       "      <td>https://www.airbnb.com/rooms/7421966</td>\n",
       "      <td>20160104002432</td>\n",
       "      <td>2016-01-04</td>\n",
       "      <td>Queen Anne Chateau</td>\n",
       "      <td>A charming apartment that sits atop Queen Anne...</td>\n",
       "      <td>NaN</td>\n",
       "      <td>A charming apartment that sits atop Queen Anne...</td>\n",
       "      <td>none</td>\n",
       "      <td>NaN</td>\n",
       "      <td>...</td>\n",
       "      <td>NaN</td>\n",
       "      <td>f</td>\n",
       "      <td>NaN</td>\n",
       "      <td>WASHINGTON</td>\n",
       "      <td>f</td>\n",
       "      <td>flexible</td>\n",
       "      <td>f</td>\n",
       "      <td>f</td>\n",
       "      <td>1</td>\n",
       "      <td>NaN</td>\n",
       "    </tr>\n",
       "    <tr>\n",
       "      <th>4</th>\n",
       "      <td>278830</td>\n",
       "      <td>https://www.airbnb.com/rooms/278830</td>\n",
       "      <td>20160104002432</td>\n",
       "      <td>2016-01-04</td>\n",
       "      <td>Charming craftsman 3 bdm house</td>\n",
       "      <td>Cozy family craftman house in beautiful neighb...</td>\n",
       "      <td>Cozy family craftman house in beautiful neighb...</td>\n",
       "      <td>Cozy family craftman house in beautiful neighb...</td>\n",
       "      <td>none</td>\n",
       "      <td>We are in the beautiful neighborhood of Queen ...</td>\n",
       "      <td>...</td>\n",
       "      <td>9.0</td>\n",
       "      <td>f</td>\n",
       "      <td>NaN</td>\n",
       "      <td>WASHINGTON</td>\n",
       "      <td>f</td>\n",
       "      <td>strict</td>\n",
       "      <td>f</td>\n",
       "      <td>f</td>\n",
       "      <td>1</td>\n",
       "      <td>0.89</td>\n",
       "    </tr>\n",
       "  </tbody>\n",
       "</table>\n",
       "<p>5 rows × 92 columns</p>\n",
       "</div>"
      ],
      "text/plain": [
       "        id                           listing_url       scrape_id last_scraped  \\\n",
       "0   241032   https://www.airbnb.com/rooms/241032  20160104002432   2016-01-04   \n",
       "1   953595   https://www.airbnb.com/rooms/953595  20160104002432   2016-01-04   \n",
       "2  3308979  https://www.airbnb.com/rooms/3308979  20160104002432   2016-01-04   \n",
       "3  7421966  https://www.airbnb.com/rooms/7421966  20160104002432   2016-01-04   \n",
       "4   278830   https://www.airbnb.com/rooms/278830  20160104002432   2016-01-04   \n",
       "\n",
       "                                  name  \\\n",
       "0         Stylish Queen Anne Apartment   \n",
       "1   Bright & Airy Queen Anne Apartment   \n",
       "2  New Modern House-Amazing water view   \n",
       "3                   Queen Anne Chateau   \n",
       "4       Charming craftsman 3 bdm house   \n",
       "\n",
       "                                             summary  \\\n",
       "0                                                NaN   \n",
       "1  Chemically sensitive? We've removed the irrita...   \n",
       "2  New modern house built in 2013.  Spectacular s...   \n",
       "3  A charming apartment that sits atop Queen Anne...   \n",
       "4  Cozy family craftman house in beautiful neighb...   \n",
       "\n",
       "                                               space  \\\n",
       "0  Make your self at home in this charming one-be...   \n",
       "1  Beautiful, hypoallergenic apartment in an extr...   \n",
       "2  Our house is modern, light and fresh with a wa...   \n",
       "3                                                NaN   \n",
       "4  Cozy family craftman house in beautiful neighb...   \n",
       "\n",
       "                                         description experiences_offered  \\\n",
       "0  Make your self at home in this charming one-be...                none   \n",
       "1  Chemically sensitive? We've removed the irrita...                none   \n",
       "2  New modern house built in 2013.  Spectacular s...                none   \n",
       "3  A charming apartment that sits atop Queen Anne...                none   \n",
       "4  Cozy family craftman house in beautiful neighb...                none   \n",
       "\n",
       "                               neighborhood_overview        ...         \\\n",
       "0                                                NaN        ...          \n",
       "1  Queen Anne is a wonderful, truly functional vi...        ...          \n",
       "2  Upper Queen Anne is a charming neighborhood fu...        ...          \n",
       "3                                                NaN        ...          \n",
       "4  We are in the beautiful neighborhood of Queen ...        ...          \n",
       "\n",
       "  review_scores_value requires_license license jurisdiction_names  \\\n",
       "0                10.0                f     NaN         WASHINGTON   \n",
       "1                10.0                f     NaN         WASHINGTON   \n",
       "2                10.0                f     NaN         WASHINGTON   \n",
       "3                 NaN                f     NaN         WASHINGTON   \n",
       "4                 9.0                f     NaN         WASHINGTON   \n",
       "\n",
       "  instant_bookable cancellation_policy  require_guest_profile_picture  \\\n",
       "0                f            moderate                              f   \n",
       "1                f              strict                              t   \n",
       "2                f              strict                              f   \n",
       "3                f            flexible                              f   \n",
       "4                f              strict                              f   \n",
       "\n",
       "  require_guest_phone_verification calculated_host_listings_count  \\\n",
       "0                                f                              2   \n",
       "1                                t                              6   \n",
       "2                                f                              2   \n",
       "3                                f                              1   \n",
       "4                                f                              1   \n",
       "\n",
       "  reviews_per_month  \n",
       "0              4.07  \n",
       "1              1.48  \n",
       "2              1.15  \n",
       "3               NaN  \n",
       "4              0.89  \n",
       "\n",
       "[5 rows x 92 columns]"
      ]
     },
     "execution_count": 436,
     "metadata": {},
     "output_type": "execute_result"
    }
   ],
   "source": [
    "print(\"Listing Data\")\n",
    "print(\"---------\")\n",
    "listings_df.head()"
   ]
  },
  {
   "cell_type": "code",
   "execution_count": 437,
   "metadata": {},
   "outputs": [
    {
     "name": "stdout",
     "output_type": "stream",
     "text": [
      "Data rows/columns\n",
      "(3818, 92)\n"
     ]
    }
   ],
   "source": [
    "print(\"Data rows/columns\")\n",
    "print(listings_df.shape)"
   ]
  },
  {
   "cell_type": "code",
   "execution_count": 438,
   "metadata": {},
   "outputs": [
    {
     "name": "stdout",
     "output_type": "stream",
     "text": [
      "<class 'pandas.core.frame.DataFrame'>\n",
      "RangeIndex: 3818 entries, 0 to 3817\n",
      "Data columns (total 92 columns):\n",
      "id                                  3818 non-null int64\n",
      "listing_url                         3818 non-null object\n",
      "scrape_id                           3818 non-null int64\n",
      "last_scraped                        3818 non-null object\n",
      "name                                3818 non-null object\n",
      "summary                             3641 non-null object\n",
      "space                               3249 non-null object\n",
      "description                         3818 non-null object\n",
      "experiences_offered                 3818 non-null object\n",
      "neighborhood_overview               2786 non-null object\n",
      "notes                               2212 non-null object\n",
      "transit                             2884 non-null object\n",
      "thumbnail_url                       3498 non-null object\n",
      "medium_url                          3498 non-null object\n",
      "picture_url                         3818 non-null object\n",
      "xl_picture_url                      3498 non-null object\n",
      "host_id                             3818 non-null int64\n",
      "host_url                            3818 non-null object\n",
      "host_name                           3816 non-null object\n",
      "host_since                          3816 non-null object\n",
      "host_location                       3810 non-null object\n",
      "host_about                          2959 non-null object\n",
      "host_response_time                  3295 non-null object\n",
      "host_response_rate                  3295 non-null object\n",
      "host_acceptance_rate                3045 non-null object\n",
      "host_is_superhost                   3816 non-null object\n",
      "host_thumbnail_url                  3816 non-null object\n",
      "host_picture_url                    3816 non-null object\n",
      "host_neighbourhood                  3518 non-null object\n",
      "host_listings_count                 3816 non-null float64\n",
      "host_total_listings_count           3816 non-null float64\n",
      "host_verifications                  3818 non-null object\n",
      "host_has_profile_pic                3816 non-null object\n",
      "host_identity_verified              3816 non-null object\n",
      "street                              3818 non-null object\n",
      "neighbourhood                       3402 non-null object\n",
      "neighbourhood_cleansed              3818 non-null object\n",
      "neighbourhood_group_cleansed        3818 non-null object\n",
      "city                                3818 non-null object\n",
      "state                               3818 non-null object\n",
      "zipcode                             3811 non-null object\n",
      "market                              3818 non-null object\n",
      "smart_location                      3818 non-null object\n",
      "country_code                        3818 non-null object\n",
      "country                             3818 non-null object\n",
      "latitude                            3818 non-null float64\n",
      "longitude                           3818 non-null float64\n",
      "is_location_exact                   3818 non-null object\n",
      "property_type                       3817 non-null object\n",
      "room_type                           3818 non-null object\n",
      "accommodates                        3818 non-null int64\n",
      "bathrooms                           3802 non-null float64\n",
      "bedrooms                            3812 non-null float64\n",
      "beds                                3817 non-null float64\n",
      "bed_type                            3818 non-null object\n",
      "amenities                           3818 non-null object\n",
      "square_feet                         97 non-null float64\n",
      "price                               3818 non-null object\n",
      "weekly_price                        2009 non-null object\n",
      "monthly_price                       1517 non-null object\n",
      "security_deposit                    1866 non-null object\n",
      "cleaning_fee                        2788 non-null object\n",
      "guests_included                     3818 non-null int64\n",
      "extra_people                        3818 non-null object\n",
      "minimum_nights                      3818 non-null int64\n",
      "maximum_nights                      3818 non-null int64\n",
      "calendar_updated                    3818 non-null object\n",
      "has_availability                    3818 non-null object\n",
      "availability_30                     3818 non-null int64\n",
      "availability_60                     3818 non-null int64\n",
      "availability_90                     3818 non-null int64\n",
      "availability_365                    3818 non-null int64\n",
      "calendar_last_scraped               3818 non-null object\n",
      "number_of_reviews                   3818 non-null int64\n",
      "first_review                        3191 non-null object\n",
      "last_review                         3191 non-null object\n",
      "review_scores_rating                3171 non-null float64\n",
      "review_scores_accuracy              3160 non-null float64\n",
      "review_scores_cleanliness           3165 non-null float64\n",
      "review_scores_checkin               3160 non-null float64\n",
      "review_scores_communication         3167 non-null float64\n",
      "review_scores_location              3163 non-null float64\n",
      "review_scores_value                 3162 non-null float64\n",
      "requires_license                    3818 non-null object\n",
      "license                             0 non-null float64\n",
      "jurisdiction_names                  3818 non-null object\n",
      "instant_bookable                    3818 non-null object\n",
      "cancellation_policy                 3818 non-null object\n",
      "require_guest_profile_picture       3818 non-null object\n",
      "require_guest_phone_verification    3818 non-null object\n",
      "calculated_host_listings_count      3818 non-null int64\n",
      "reviews_per_month                   3191 non-null float64\n",
      "dtypes: float64(17), int64(13), object(62)\n",
      "memory usage: 2.7+ MB\n"
     ]
    }
   ],
   "source": [
    "listings_df.info()"
   ]
  },
  {
   "cell_type": "code",
   "execution_count": 439,
   "metadata": {},
   "outputs": [
    {
     "name": "stdout",
     "output_type": "stream",
     "text": [
      "Null values in listing dataframe\n"
     ]
    },
    {
     "data": {
      "text/plain": [
       "id                                     0\n",
       "listing_url                            0\n",
       "scrape_id                              0\n",
       "last_scraped                           0\n",
       "name                                   0\n",
       "summary                              177\n",
       "space                                569\n",
       "description                            0\n",
       "experiences_offered                    0\n",
       "neighborhood_overview               1032\n",
       "notes                               1606\n",
       "transit                              934\n",
       "thumbnail_url                        320\n",
       "medium_url                           320\n",
       "picture_url                            0\n",
       "xl_picture_url                       320\n",
       "host_id                                0\n",
       "host_url                               0\n",
       "host_name                              2\n",
       "host_since                             2\n",
       "host_location                          8\n",
       "host_about                           859\n",
       "host_response_time                   523\n",
       "host_response_rate                   523\n",
       "host_acceptance_rate                 773\n",
       "host_is_superhost                      2\n",
       "host_thumbnail_url                     2\n",
       "host_picture_url                       2\n",
       "host_neighbourhood                   300\n",
       "host_listings_count                    2\n",
       "                                    ... \n",
       "guests_included                        0\n",
       "extra_people                           0\n",
       "minimum_nights                         0\n",
       "maximum_nights                         0\n",
       "calendar_updated                       0\n",
       "has_availability                       0\n",
       "availability_30                        0\n",
       "availability_60                        0\n",
       "availability_90                        0\n",
       "availability_365                       0\n",
       "calendar_last_scraped                  0\n",
       "number_of_reviews                      0\n",
       "first_review                         627\n",
       "last_review                          627\n",
       "review_scores_rating                 647\n",
       "review_scores_accuracy               658\n",
       "review_scores_cleanliness            653\n",
       "review_scores_checkin                658\n",
       "review_scores_communication          651\n",
       "review_scores_location               655\n",
       "review_scores_value                  656\n",
       "requires_license                       0\n",
       "license                             3818\n",
       "jurisdiction_names                     0\n",
       "instant_bookable                       0\n",
       "cancellation_policy                    0\n",
       "require_guest_profile_picture          0\n",
       "require_guest_phone_verification       0\n",
       "calculated_host_listings_count         0\n",
       "reviews_per_month                    627\n",
       "Length: 92, dtype: int64"
      ]
     },
     "execution_count": 439,
     "metadata": {},
     "output_type": "execute_result"
    }
   ],
   "source": [
    "# our data seems to have NaN, lets assess null values\n",
    "print(\"Null values in listing dataframe\")\n",
    "nulls = listings_df.isnull().sum()\n",
    "nulls[nulls > 0].sort_values(ascending=False)\n",
    "nulls"
   ]
  },
  {
   "cell_type": "code",
   "execution_count": 440,
   "metadata": {},
   "outputs": [
    {
     "data": {
      "image/png": "[encoded data removed]",
      "text/plain": [
       "<Figure size 576x576 with 1 Axes>"
      ]
     },
     "metadata": {},
     "output_type": "display_data"
    },
    {
     "data": {
      "text/plain": [
       "Seattle, Washington, United States                             3259\n",
       "US                                                              246\n",
       "Spokane, Washington, United States                               41\n",
       "Kent, Washington, United States                                  34\n",
       "Los Angeles, California, United States                           13\n",
       "Bellevue, Washington, United States                              12\n",
       "San Francisco, California, United States                         11\n",
       "Mercer Island, Washington, United States                         10\n",
       "Kirkland, Washington, United States                               8\n",
       "New York, New York, United States                                 6\n",
       "Shoreline, Washington, United States                              5\n",
       "Sammamish, Washington, United States                              5\n",
       "Seattle                                                           5\n",
       "Vashon, Washington, United States                                 5\n",
       "Vancouver, Washington, United States                              4\n",
       "San Diego, California, United States                              4\n",
       "Seattle, Washington                                               4\n",
       "Portland, Oregon, United States                                   4\n",
       "Tucson, Arizona, United States                                    4\n",
       "Issaquah, Washington, United States                               3\n",
       "Blaine, Washington, United States                                 3\n",
       "Palm Springs, California, United States                           3\n",
       "Vancouver, British Columbia, Canada                               3\n",
       "Montezuma,Costas Rica  and Seattle Wasington, United States       3\n",
       "San Francisco, California                                         3\n",
       "Washington State, United States                                   3\n",
       "Seattle/San Fransisco/Taipei                                      3\n",
       "Seattle and Bellingham, Washington, United States                 2\n",
       "Seattle WA                                                        2\n",
       "United States                                                     2\n",
       "                                                               ... \n",
       "Next door to cottage                                              1\n",
       "Snohomish, Washington, United States                              1\n",
       "Seattle, WA, United States                                        1\n",
       "Phoenix, Arizona, United States                                   1\n",
       "Seattle, Washington and London, England                           1\n",
       "Bloomington, Indiana, United States                               1\n",
       "Toronto, Ontario, Canada                                          1\n",
       "West Seattle, Washington                                          1\n",
       "West New York, New Jersey, United States                          1\n",
       "Castle Rock, Washington, United States                            1\n",
       "Long Beach, California, United States                             1\n",
       "Kenmore, Washington, United States                                1\n",
       "Sydney, New South Wales, Australia                                1\n",
       "Accra, Greater Accra, Ghana                                       1\n",
       "White Pine, Tennessee, United States                              1\n",
       "Austin, Texas, United States                                      1\n",
       "Surprise, Arizona, United States                                  1\n",
       "Massachusetts, United States                                      1\n",
       "Rome, Lazio, Italy                                                1\n",
       "Greenwood Village, Colorado, United States                        1\n",
       "Vashon Island, Seattle, WA                                        1\n",
       "Arlington, Massachusetts, United States                           1\n",
       "Oregon                                                            1\n",
       "FR                                                                1\n",
       "California, Maryland, United States                               1\n",
       "Grosse Pointe Farms, Michigan, United States                      1\n",
       "Camano Island                                                     1\n",
       "Minneapolis, Minnesota, United States                             1\n",
       "Cambridge, Massachusetts, United States                           1\n",
       "Bangkok, Thailand                                                 1\n",
       "Name: host_location, Length: 120, dtype: int64"
      ]
     },
     "execution_count": 440,
     "metadata": {},
     "output_type": "execute_result"
    }
   ],
   "source": [
    "# we notice some categorical data lets explore them\n",
    "# lets select the following values to explore for this project\n",
    "#host_location, property_type, host_response_time, host_response_rate\n",
    "\n",
    "plt.figure(figsize =(8, 8)) \n",
    "plt.pie(listings_df['host_location'].value_counts(),\n",
    "startangle = 90, autopct ='%.1f %%')\n",
    "plt.show() \n",
    "\n",
    "listings_df['host_location'].value_counts(ascending=False)"
   ]
  },
  {
   "cell_type": "code",
   "execution_count": 441,
   "metadata": {},
   "outputs": [
    {
     "data": {
      "image/png": "[encoded data removed]",
      "text/plain": [
       "<Figure size 576x576 with 1 Axes>"
      ]
     },
     "metadata": {},
     "output_type": "display_data"
    },
    {
     "data": {
      "text/plain": [
       "House              1733\n",
       "Apartment          1708\n",
       "Townhouse           118\n",
       "Condominium          91\n",
       "Loft                 40\n",
       "Bed & Breakfast      37\n",
       "Other                22\n",
       "Cabin                21\n",
       "Camper/RV            13\n",
       "Bungalow             13\n",
       "Boat                  8\n",
       "Tent                  5\n",
       "Treehouse             3\n",
       "Dorm                  2\n",
       "Chalet                2\n",
       "Yurt                  1\n",
       "Name: property_type, dtype: int64"
      ]
     },
     "execution_count": 441,
     "metadata": {},
     "output_type": "execute_result"
    }
   ],
   "source": [
    "# we notice some categorical data lets explore them\n",
    "# lets select the following values to explore for this project\n",
    "#host_location, property_type, host_response_time, host_response_rate\n",
    "\n",
    "plt.figure(figsize =(8, 8)) \n",
    "plt.pie(listings_df['property_type'].value_counts(),\n",
    "startangle = 90, autopct ='%.1f %%')\n",
    "plt.show() \n",
    "\n",
    "listings_df['property_type'].value_counts(ascending=False)"
   ]
  },
  {
   "cell_type": "code",
   "execution_count": 442,
   "metadata": {},
   "outputs": [
    {
     "data": {
      "image/png": "[encoded data removed]",
      "text/plain": [
       "<Figure size 576x576 with 1 Axes>"
      ]
     },
     "metadata": {},
     "output_type": "display_data"
    },
    {
     "data": {
      "text/plain": [
       "within an hour        1692\n",
       "within a few hours     968\n",
       "within a day           597\n",
       "a few days or more      38\n",
       "Name: host_response_time, dtype: int64"
      ]
     },
     "execution_count": 442,
     "metadata": {},
     "output_type": "execute_result"
    }
   ],
   "source": [
    "# we notice some categorical data lets explore them\n",
    "# lets select the following values to explore for this project\n",
    "#host_location, property_type, host_response_time, host_response_rate\n",
    "\n",
    "plt.figure(figsize =(8, 8)) \n",
    "plt.pie(listings_df['host_response_time'].value_counts(),\n",
    "startangle = 90, autopct ='%.1f %%')\n",
    "plt.show() \n",
    "\n",
    "listings_df['host_response_time'].value_counts(ascending=False)"
   ]
  },
  {
   "cell_type": "code",
   "execution_count": 443,
   "metadata": {},
   "outputs": [
    {
     "data": {
      "image/png": "[encoded data removed]",
      "text/plain": [
       "<Figure size 576x576 with 1 Axes>"
      ]
     },
     "metadata": {},
     "output_type": "display_data"
    },
    {
     "data": {
      "text/plain": [
       "100%    2371\n",
       "90%      165\n",
       "80%      104\n",
       "99%       78\n",
       "88%       66\n",
       "50%       52\n",
       "94%       46\n",
       "67%       41\n",
       "89%       32\n",
       "75%       32\n",
       "86%       30\n",
       "98%       28\n",
       "96%       28\n",
       "70%       25\n",
       "97%       21\n",
       "83%       20\n",
       "60%       20\n",
       "92%       18\n",
       "93%       18\n",
       "33%       14\n",
       "40%       12\n",
       "63%       11\n",
       "95%        8\n",
       "71%        8\n",
       "78%        8\n",
       "91%        5\n",
       "43%        4\n",
       "25%        3\n",
       "87%        3\n",
       "76%        3\n",
       "64%        3\n",
       "17%        2\n",
       "82%        2\n",
       "57%        2\n",
       "58%        2\n",
       "30%        1\n",
       "38%        1\n",
       "56%        1\n",
       "31%        1\n",
       "81%        1\n",
       "68%        1\n",
       "55%        1\n",
       "65%        1\n",
       "53%        1\n",
       "69%        1\n",
       "Name: host_response_rate, dtype: int64"
      ]
     },
     "execution_count": 443,
     "metadata": {},
     "output_type": "execute_result"
    }
   ],
   "source": [
    "# we notice some categorical data lets explore them\n",
    "# lets select the following values to explore for this project\n",
    "#host_location, property_type, host_response_time, host_response_rate\n",
    "\n",
    "plt.figure(figsize =(8, 8)) \n",
    "plt.pie(listings_df['host_response_rate'].value_counts(),\n",
    "startangle = 90, autopct ='%.1f %%')\n",
    "plt.show() \n",
    "\n",
    "listings_df['host_response_rate'].value_counts(ascending=False)"
   ]
  },
  {
   "cell_type": "markdown",
   "metadata": {},
   "source": [
    "#### Conclusion:\n",
    "\n",
    "Exploring the data it needs to cleaned.concluding the categorical value evaluation we conclude the following:\n",
    "1. Seattle is the most frequent location\n",
    "2. House , Apartment, Townhouse were among the frequesnt selected properties \n",
    "3. We have a quick response time (of an hour) which is the fastest responce time\n",
    "4. As for the response rate the majority of the rates read to a 100% "
   ]
  },
  {
   "cell_type": "code",
   "execution_count": 444,
   "metadata": {},
   "outputs": [
    {
     "name": "stdout",
     "output_type": "stream",
     "text": [
      "reviews Data\n",
      "---------\n"
     ]
    },
    {
     "data": {
      "text/html": [
       "<div>\n",
       "<style scoped>\n",
       "    .dataframe tbody tr th:only-of-type {\n",
       "        vertical-align: middle;\n",
       "    }\n",
       "\n",
       "    .dataframe tbody tr th {\n",
       "        vertical-align: top;\n",
       "    }\n",
       "\n",
       "    .dataframe thead th {\n",
       "        text-align: right;\n",
       "    }\n",
       "</style>\n",
       "<table border=\"1\" class=\"dataframe\">\n",
       "  <thead>\n",
       "    <tr style=\"text-align: right;\">\n",
       "      <th></th>\n",
       "      <th>listing_id</th>\n",
       "      <th>id</th>\n",
       "      <th>date</th>\n",
       "      <th>reviewer_id</th>\n",
       "      <th>reviewer_name</th>\n",
       "      <th>comments</th>\n",
       "    </tr>\n",
       "  </thead>\n",
       "  <tbody>\n",
       "    <tr>\n",
       "      <th>0</th>\n",
       "      <td>7202016</td>\n",
       "      <td>38917982</td>\n",
       "      <td>2015-07-19</td>\n",
       "      <td>28943674</td>\n",
       "      <td>Bianca</td>\n",
       "      <td>Cute and cozy place. Perfect location to every...</td>\n",
       "    </tr>\n",
       "    <tr>\n",
       "      <th>1</th>\n",
       "      <td>7202016</td>\n",
       "      <td>39087409</td>\n",
       "      <td>2015-07-20</td>\n",
       "      <td>32440555</td>\n",
       "      <td>Frank</td>\n",
       "      <td>Kelly has a great room in a very central locat...</td>\n",
       "    </tr>\n",
       "    <tr>\n",
       "      <th>2</th>\n",
       "      <td>7202016</td>\n",
       "      <td>39820030</td>\n",
       "      <td>2015-07-26</td>\n",
       "      <td>37722850</td>\n",
       "      <td>Ian</td>\n",
       "      <td>Very spacious apartment, and in a great neighb...</td>\n",
       "    </tr>\n",
       "    <tr>\n",
       "      <th>3</th>\n",
       "      <td>7202016</td>\n",
       "      <td>40813543</td>\n",
       "      <td>2015-08-02</td>\n",
       "      <td>33671805</td>\n",
       "      <td>George</td>\n",
       "      <td>Close to Seattle Center and all it has to offe...</td>\n",
       "    </tr>\n",
       "    <tr>\n",
       "      <th>4</th>\n",
       "      <td>7202016</td>\n",
       "      <td>41986501</td>\n",
       "      <td>2015-08-10</td>\n",
       "      <td>34959538</td>\n",
       "      <td>Ming</td>\n",
       "      <td>Kelly was a great host and very accommodating ...</td>\n",
       "    </tr>\n",
       "  </tbody>\n",
       "</table>\n",
       "</div>"
      ],
      "text/plain": [
       "   listing_id        id        date  reviewer_id reviewer_name  \\\n",
       "0     7202016  38917982  2015-07-19     28943674        Bianca   \n",
       "1     7202016  39087409  2015-07-20     32440555         Frank   \n",
       "2     7202016  39820030  2015-07-26     37722850           Ian   \n",
       "3     7202016  40813543  2015-08-02     33671805        George   \n",
       "4     7202016  41986501  2015-08-10     34959538          Ming   \n",
       "\n",
       "                                            comments  \n",
       "0  Cute and cozy place. Perfect location to every...  \n",
       "1  Kelly has a great room in a very central locat...  \n",
       "2  Very spacious apartment, and in a great neighb...  \n",
       "3  Close to Seattle Center and all it has to offe...  \n",
       "4  Kelly was a great host and very accommodating ...  "
      ]
     },
     "execution_count": 444,
     "metadata": {},
     "output_type": "execute_result"
    }
   ],
   "source": [
    "print(\"reviews Data\")\n",
    "print(\"---------\")\n",
    "reviews_df.head()"
   ]
  },
  {
   "cell_type": "code",
   "execution_count": 445,
   "metadata": {},
   "outputs": [
    {
     "name": "stdout",
     "output_type": "stream",
     "text": [
      "Data rows/columns\n",
      "(84849, 6)\n"
     ]
    }
   ],
   "source": [
    "print(\"Data rows/columns\")\n",
    "print(reviews_df.shape)"
   ]
  },
  {
   "cell_type": "code",
   "execution_count": 446,
   "metadata": {},
   "outputs": [
    {
     "name": "stdout",
     "output_type": "stream",
     "text": [
      "<class 'pandas.core.frame.DataFrame'>\n",
      "RangeIndex: 84849 entries, 0 to 84848\n",
      "Data columns (total 6 columns):\n",
      "listing_id       84849 non-null int64\n",
      "id               84849 non-null int64\n",
      "date             84849 non-null object\n",
      "reviewer_id      84849 non-null int64\n",
      "reviewer_name    84849 non-null object\n",
      "comments         84831 non-null object\n",
      "dtypes: int64(3), object(3)\n",
      "memory usage: 3.9+ MB\n"
     ]
    }
   ],
   "source": [
    "reviews_df.info()"
   ]
  },
  {
   "cell_type": "code",
   "execution_count": 447,
   "metadata": {},
   "outputs": [
    {
     "name": "stdout",
     "output_type": "stream",
     "text": [
      "Null values in listing dataframe\n"
     ]
    },
    {
     "data": {
      "text/plain": [
       "listing_id        0\n",
       "id                0\n",
       "date              0\n",
       "reviewer_id       0\n",
       "reviewer_name     0\n",
       "comments         18\n",
       "dtype: int64"
      ]
     },
     "execution_count": 447,
     "metadata": {},
     "output_type": "execute_result"
    }
   ],
   "source": [
    "# our data seems to have NaN, lets assess null values\n",
    "print(\"Null values in listing dataframe\")\n",
    "nulls = reviews_df.isnull().sum()\n",
    "nulls[nulls > 0].sort_values(ascending=False)\n",
    "nulls"
   ]
  },
  {
   "cell_type": "markdown",
   "metadata": {},
   "source": [
    "#### Conclusion:\n",
    "\n",
    "Exploring the data we notice that the review dataset has 6 columns. and the only missing values can be found in the comments section. \n",
    "This is likely due to the fact that the comment section was left as optional for the users."
   ]
  },
  {
   "cell_type": "markdown",
   "metadata": {},
   "source": [
    "### Scrub-a-dub-dub, Its data cleaning time!\n",
    "In this step we will clean our data from these NaNs and preprocess it in order to help us answer our business questions."
   ]
  },
  {
   "cell_type": "code",
   "execution_count": 448,
   "metadata": {},
   "outputs": [],
   "source": [
    "# Since our first business questions is about reviews\n",
    "# We'll start by preprocessing the review data \n",
    "# lets shrink our dataframe to get only the columns we are interested in\n",
    "\n",
    "rdf = reviews_df[['listing_id','date','comments']].copy()"
   ]
  },
  {
   "cell_type": "code",
   "execution_count": 449,
   "metadata": {},
   "outputs": [
    {
     "data": {
      "text/html": [
       "<div>\n",
       "<style scoped>\n",
       "    .dataframe tbody tr th:only-of-type {\n",
       "        vertical-align: middle;\n",
       "    }\n",
       "\n",
       "    .dataframe tbody tr th {\n",
       "        vertical-align: top;\n",
       "    }\n",
       "\n",
       "    .dataframe thead th {\n",
       "        text-align: right;\n",
       "    }\n",
       "</style>\n",
       "<table border=\"1\" class=\"dataframe\">\n",
       "  <thead>\n",
       "    <tr style=\"text-align: right;\">\n",
       "      <th></th>\n",
       "      <th>listing_id</th>\n",
       "      <th>date</th>\n",
       "      <th>comments</th>\n",
       "    </tr>\n",
       "  </thead>\n",
       "  <tbody>\n",
       "    <tr>\n",
       "      <th>0</th>\n",
       "      <td>7202016</td>\n",
       "      <td>2015-07-19</td>\n",
       "      <td>Cute and cozy place. Perfect location to every...</td>\n",
       "    </tr>\n",
       "    <tr>\n",
       "      <th>1</th>\n",
       "      <td>7202016</td>\n",
       "      <td>2015-07-20</td>\n",
       "      <td>Kelly has a great room in a very central locat...</td>\n",
       "    </tr>\n",
       "    <tr>\n",
       "      <th>2</th>\n",
       "      <td>7202016</td>\n",
       "      <td>2015-07-26</td>\n",
       "      <td>Very spacious apartment, and in a great neighb...</td>\n",
       "    </tr>\n",
       "    <tr>\n",
       "      <th>3</th>\n",
       "      <td>7202016</td>\n",
       "      <td>2015-08-02</td>\n",
       "      <td>Close to Seattle Center and all it has to offe...</td>\n",
       "    </tr>\n",
       "    <tr>\n",
       "      <th>4</th>\n",
       "      <td>7202016</td>\n",
       "      <td>2015-08-10</td>\n",
       "      <td>Kelly was a great host and very accommodating ...</td>\n",
       "    </tr>\n",
       "  </tbody>\n",
       "</table>\n",
       "</div>"
      ],
      "text/plain": [
       "   listing_id        date                                           comments\n",
       "0     7202016  2015-07-19  Cute and cozy place. Perfect location to every...\n",
       "1     7202016  2015-07-20  Kelly has a great room in a very central locat...\n",
       "2     7202016  2015-07-26  Very spacious apartment, and in a great neighb...\n",
       "3     7202016  2015-08-02  Close to Seattle Center and all it has to offe...\n",
       "4     7202016  2015-08-10  Kelly was a great host and very accommodating ..."
      ]
     },
     "execution_count": 449,
     "metadata": {},
     "output_type": "execute_result"
    }
   ],
   "source": [
    "rdf.head()"
   ]
  },
  {
   "cell_type": "code",
   "execution_count": 450,
   "metadata": {},
   "outputs": [],
   "source": [
    "#lets build a function to map neighbourhood to comments using listing ID\n",
    "# exploring the CSV file in excel we notice that neighbourhood field has some (Blanks)\n",
    "# We will analyze the cleansed version \n",
    "\n",
    "def map_neighbourhood(lid):\n",
    "    nbr = listings_df.loc[listings_df['id']== lid, 'neighbourhood_cleansed' ].iloc[0]\n",
    "    return nbr"
   ]
  },
  {
   "cell_type": "code",
   "execution_count": 451,
   "metadata": {},
   "outputs": [
    {
     "data": {
      "text/plain": [
       "'Atlantic'"
      ]
     },
     "execution_count": 451,
     "metadata": {},
     "output_type": "execute_result"
    }
   ],
   "source": [
    "# testing time~ \n",
    "# lets test our function using a listing id randomly selected from the excel file \n",
    "# in the excel sheet select row 1026 with id 8103432\n",
    "map_neighbourhood(8103432)"
   ]
  },
  {
   "cell_type": "code",
   "execution_count": 452,
   "metadata": {},
   "outputs": [
    {
     "data": {
      "text/html": [
       "<div>\n",
       "<style scoped>\n",
       "    .dataframe tbody tr th:only-of-type {\n",
       "        vertical-align: middle;\n",
       "    }\n",
       "\n",
       "    .dataframe tbody tr th {\n",
       "        vertical-align: top;\n",
       "    }\n",
       "\n",
       "    .dataframe thead th {\n",
       "        text-align: right;\n",
       "    }\n",
       "</style>\n",
       "<table border=\"1\" class=\"dataframe\">\n",
       "  <thead>\n",
       "    <tr style=\"text-align: right;\">\n",
       "      <th></th>\n",
       "      <th>listing_id</th>\n",
       "      <th>date</th>\n",
       "      <th>comments</th>\n",
       "      <th>neighbourhood_cleansed</th>\n",
       "    </tr>\n",
       "  </thead>\n",
       "  <tbody>\n",
       "    <tr>\n",
       "      <th>0</th>\n",
       "      <td>7202016</td>\n",
       "      <td>2015-07-19</td>\n",
       "      <td>Cute and cozy place. Perfect location to every...</td>\n",
       "      <td>Lower Queen Anne</td>\n",
       "    </tr>\n",
       "    <tr>\n",
       "      <th>1</th>\n",
       "      <td>7202016</td>\n",
       "      <td>2015-07-20</td>\n",
       "      <td>Kelly has a great room in a very central locat...</td>\n",
       "      <td>Lower Queen Anne</td>\n",
       "    </tr>\n",
       "    <tr>\n",
       "      <th>2</th>\n",
       "      <td>7202016</td>\n",
       "      <td>2015-07-26</td>\n",
       "      <td>Very spacious apartment, and in a great neighb...</td>\n",
       "      <td>Lower Queen Anne</td>\n",
       "    </tr>\n",
       "    <tr>\n",
       "      <th>3</th>\n",
       "      <td>7202016</td>\n",
       "      <td>2015-08-02</td>\n",
       "      <td>Close to Seattle Center and all it has to offe...</td>\n",
       "      <td>Lower Queen Anne</td>\n",
       "    </tr>\n",
       "    <tr>\n",
       "      <th>4</th>\n",
       "      <td>7202016</td>\n",
       "      <td>2015-08-10</td>\n",
       "      <td>Kelly was a great host and very accommodating ...</td>\n",
       "      <td>Lower Queen Anne</td>\n",
       "    </tr>\n",
       "  </tbody>\n",
       "</table>\n",
       "</div>"
      ],
      "text/plain": [
       "   listing_id        date                                           comments  \\\n",
       "0     7202016  2015-07-19  Cute and cozy place. Perfect location to every...   \n",
       "1     7202016  2015-07-20  Kelly has a great room in a very central locat...   \n",
       "2     7202016  2015-07-26  Very spacious apartment, and in a great neighb...   \n",
       "3     7202016  2015-08-02  Close to Seattle Center and all it has to offe...   \n",
       "4     7202016  2015-08-10  Kelly was a great host and very accommodating ...   \n",
       "\n",
       "  neighbourhood_cleansed  \n",
       "0       Lower Queen Anne  \n",
       "1       Lower Queen Anne  \n",
       "2       Lower Queen Anne  \n",
       "3       Lower Queen Anne  \n",
       "4       Lower Queen Anne  "
      ]
     },
     "execution_count": 452,
     "metadata": {},
     "output_type": "execute_result"
    }
   ],
   "source": [
    "#lets implement function and join tables\n",
    "rdf['neighbourhood_cleansed'] = rdf['listing_id'].apply(map_neighbourhood)\n",
    "rdf.head()"
   ]
  },
  {
   "cell_type": "code",
   "execution_count": 453,
   "metadata": {},
   "outputs": [
    {
     "data": {
      "text/plain": [
       "0"
      ]
     },
     "execution_count": 453,
     "metadata": {},
     "output_type": "execute_result"
    }
   ],
   "source": [
    "#lets check for nulls \n",
    "rdf['neighbourhood_cleansed'].isnull().sum()"
   ]
  },
  {
   "cell_type": "code",
   "execution_count": 454,
   "metadata": {},
   "outputs": [
    {
     "name": "stderr",
     "output_type": "stream",
     "text": [
      "[nltk_data] Downloading package vader_lexicon to\n",
      "[nltk_data]     C:\\Users\\User\\AppData\\Roaming\\nltk_data...\n",
      "[nltk_data]   Package vader_lexicon is already up-to-date!\n"
     ]
    }
   ],
   "source": [
    "# sentiement intensity analyzer \n",
    "# we will use sentiement intensity analyzer to get an overall score of neg/pos/neu comments\n",
    "# we will do so with using sentiment analyzer on the variaible polarity score\n",
    "import nltk\n",
    "nltk.download('vader_lexicon')\n",
    "sia = SentimentIntensityAnalyzer()\n"
   ]
  },
  {
   "cell_type": "code",
   "execution_count": 455,
   "metadata": {},
   "outputs": [],
   "source": [
    "def apply_sia(cmt):\n",
    "    \n",
    "    '''\n",
    "    Mhhhhmmm... a quick explaination of how this function should work\n",
    "    Input: Review comments (Text Data)\n",
    "    Output: A score combining pos/neg/neu scores \n",
    "    Function: Applying sentiment analyzer on comments using polarity_score\n",
    "    '''\n",
    "    txt= str(cmt)\n",
    "    total = sia.polarity_scores(txt)\n",
    "    return total['compound']"
   ]
  },
  {
   "cell_type": "code",
   "execution_count": 456,
   "metadata": {},
   "outputs": [
    {
     "data": {
      "text/html": [
       "<div>\n",
       "<style scoped>\n",
       "    .dataframe tbody tr th:only-of-type {\n",
       "        vertical-align: middle;\n",
       "    }\n",
       "\n",
       "    .dataframe tbody tr th {\n",
       "        vertical-align: top;\n",
       "    }\n",
       "\n",
       "    .dataframe thead th {\n",
       "        text-align: right;\n",
       "    }\n",
       "</style>\n",
       "<table border=\"1\" class=\"dataframe\">\n",
       "  <thead>\n",
       "    <tr style=\"text-align: right;\">\n",
       "      <th></th>\n",
       "      <th>listing_id</th>\n",
       "      <th>date</th>\n",
       "      <th>comments</th>\n",
       "      <th>neighbourhood_cleansed</th>\n",
       "      <th>polarity_score</th>\n",
       "    </tr>\n",
       "  </thead>\n",
       "  <tbody>\n",
       "    <tr>\n",
       "      <th>0</th>\n",
       "      <td>7202016</td>\n",
       "      <td>2015-07-19</td>\n",
       "      <td>Cute and cozy place. Perfect location to every...</td>\n",
       "      <td>Lower Queen Anne</td>\n",
       "      <td>0.7901</td>\n",
       "    </tr>\n",
       "    <tr>\n",
       "      <th>1</th>\n",
       "      <td>7202016</td>\n",
       "      <td>2015-07-20</td>\n",
       "      <td>Kelly has a great room in a very central locat...</td>\n",
       "      <td>Lower Queen Anne</td>\n",
       "      <td>0.9872</td>\n",
       "    </tr>\n",
       "    <tr>\n",
       "      <th>2</th>\n",
       "      <td>7202016</td>\n",
       "      <td>2015-07-26</td>\n",
       "      <td>Very spacious apartment, and in a great neighb...</td>\n",
       "      <td>Lower Queen Anne</td>\n",
       "      <td>0.8718</td>\n",
       "    </tr>\n",
       "    <tr>\n",
       "      <th>3</th>\n",
       "      <td>7202016</td>\n",
       "      <td>2015-08-02</td>\n",
       "      <td>Close to Seattle Center and all it has to offe...</td>\n",
       "      <td>Lower Queen Anne</td>\n",
       "      <td>0.8313</td>\n",
       "    </tr>\n",
       "    <tr>\n",
       "      <th>4</th>\n",
       "      <td>7202016</td>\n",
       "      <td>2015-08-10</td>\n",
       "      <td>Kelly was a great host and very accommodating ...</td>\n",
       "      <td>Lower Queen Anne</td>\n",
       "      <td>0.9783</td>\n",
       "    </tr>\n",
       "  </tbody>\n",
       "</table>\n",
       "</div>"
      ],
      "text/plain": [
       "   listing_id        date                                           comments  \\\n",
       "0     7202016  2015-07-19  Cute and cozy place. Perfect location to every...   \n",
       "1     7202016  2015-07-20  Kelly has a great room in a very central locat...   \n",
       "2     7202016  2015-07-26  Very spacious apartment, and in a great neighb...   \n",
       "3     7202016  2015-08-02  Close to Seattle Center and all it has to offe...   \n",
       "4     7202016  2015-08-10  Kelly was a great host and very accommodating ...   \n",
       "\n",
       "  neighbourhood_cleansed  polarity_score  \n",
       "0       Lower Queen Anne          0.7901  \n",
       "1       Lower Queen Anne          0.9872  \n",
       "2       Lower Queen Anne          0.8718  \n",
       "3       Lower Queen Anne          0.8313  \n",
       "4       Lower Queen Anne          0.9783  "
      ]
     },
     "execution_count": 456,
     "metadata": {},
     "output_type": "execute_result"
    }
   ],
   "source": [
    "rdf['polarity_score'] = rdf['comments'].apply(apply_sia)\n",
    "rdf.head()"
   ]
  },
  {
   "cell_type": "code",
   "execution_count": 457,
   "metadata": {},
   "outputs": [],
   "source": [
    "# Now since we have our scores lets compare the sentimants \n",
    "# Positive means > 0 \n",
    "# Negative means < 0 \n",
    "# Neutral means = 0 \n",
    "# Lets get get scores and look at the analysis\n",
    "pos = rdf['polarity_score'][rdf['polarity_score'] > 0]\n",
    "neg= rdf['polarity_score'][rdf['polarity_score'] < 0]\n",
    "neu= rdf['polarity_score'][rdf['polarity_score'] ==0]\n"
   ]
  },
  {
   "cell_type": "code",
   "execution_count": 458,
   "metadata": {},
   "outputs": [
    {
     "name": "stdout",
     "output_type": "stream",
     "text": [
      "Positive comments are:  82444\n",
      "Negative comments are:  849\n",
      "Neutral comments are 1556\n"
     ]
    }
   ],
   "source": [
    "print('Positive comments are: ', pos.count())\n",
    "print('Negative comments are: ', neg.count())\n",
    "print('Neutral comments are', neu.count())"
   ]
  },
  {
   "cell_type": "code",
   "execution_count": 459,
   "metadata": {},
   "outputs": [],
   "source": [
    "# interesting our positive cooments seem to out weigh the negative ones\n",
    "# carrying on, we'll join neghberhoods based on polarity score\n",
    "\n",
    "polarity_neigh = rdf.groupby('neighbourhood_cleansed')[['polarity_score']].mean().sort_values(by='polarity_score',ascending=False)"
   ]
  },
  {
   "cell_type": "code",
   "execution_count": 460,
   "metadata": {},
   "outputs": [
    {
     "data": {
      "text/plain": [
       "<matplotlib.axes._subplots.AxesSubplot at 0x14c442f8748>"
      ]
     },
     "execution_count": 460,
     "metadata": {},
     "output_type": "execute_result"
    },
    {
     "data": {
      "image/png": "[encoded data removed]",
      "text/plain": [
       "<Figure size 432x288 with 1 Axes>"
      ]
     },
     "metadata": {
      "needs_background": "light"
     },
     "output_type": "display_data"
    }
   ],
   "source": [
    "# lets visulize our results seeing the top 5 neighberhoods based on comments\n",
    "polarity_neigh.head(5).plot(kind='bar', color=\"pink\")"
   ]
  },
  {
   "cell_type": "code",
   "execution_count": 461,
   "metadata": {},
   "outputs": [
    {
     "data": {
      "text/plain": [
       "<matplotlib.axes._subplots.AxesSubplot at 0x14c438bff98>"
      ]
     },
     "execution_count": 461,
     "metadata": {},
     "output_type": "execute_result"
    },
    {
     "data": {
      "image/png": "[encoded data removed]",
      "text/plain": [
       "<Figure size 432x288 with 1 Axes>"
      ]
     },
     "metadata": {
      "needs_background": "light"
     },
     "output_type": "display_data"
    }
   ],
   "source": [
    "# now, lets visulize our results seeing the least 5 neighberhoods based on comments\n",
    "polarity_neigh.tail(5).plot(kind='bar', color=\"purple\")"
   ]
  },
  {
   "cell_type": "markdown",
   "metadata": {},
   "source": [
    "##### Conclusion:\n",
    "\n",
    "Well looking at our sentiement analysis we noticed that most of the comments were positive comments. and if we seek to know the best neighberhoods based on our comments we conclude that Roxhill, Cedar Park and Pinehurst are the top 3 while Mid-Beacon Hill, South Beacon Hill and University District are the 3 lowest rated neighberhoods based on our analysis of their reviews."
   ]
  },
  {
   "cell_type": "code",
   "execution_count": 462,
   "metadata": {},
   "outputs": [
    {
     "name": "stdout",
     "output_type": "stream",
     "text": [
      "                                price\n",
      "neighbourhood_cleansed               \n",
      "Southeast Magnolia         231.705882\n",
      "Portage Bay                227.857143\n",
      "Westlake                   194.470588\n",
      "West Queen Anne            187.769231\n",
      "Montlake                   182.789474\n",
      "Briarcliff                 176.571429\n",
      "Sunset Hill                176.055556\n",
      "Industrial District        173.333333\n",
      "Alki                       171.619048\n",
      "Windermere                 169.900000\n",
      "Pioneer Square             169.260870\n",
      "Central Business District  164.213592\n",
      "Fauntleroy                 164.100000\n",
      "Belltown                   162.893162\n",
      "East Queen Anne            159.414634\n",
      "Madrona                    158.234043\n",
      "Pike-Market                157.785714\n",
      "North Queen Anne           150.240741\n",
      "Green Lake                 149.018519\n",
      "Lawton Park                147.566667\n",
      "Holly Park                 147.166667\n",
      "North Admiral              146.408163\n",
      "View Ridge                 139.000000\n",
      "Lower Queen Anne           138.202128\n",
      "First Hill                 136.425926\n",
      "South Lake Union           135.481481\n",
      "Leschi                     134.358491\n",
      "Stevens                    133.210084\n",
      "Mann                       131.985075\n",
      "Madison Park               130.388889\n",
      "...                               ...\n",
      "Matthews Beach             107.105263\n",
      "International District     104.882353\n",
      "High Point                 104.357143\n",
      "Haller Lake                103.400000\n",
      "Greenwood                   98.820225\n",
      "Meadowbrook                 98.666667\n",
      "Mount Baker                 98.300000\n",
      "North Beacon Hill           96.884615\n",
      "Columbia City               95.017241\n",
      "Broadview                   94.705882\n",
      "University District         93.639344\n",
      "Roxhill                     92.500000\n",
      "Brighton                    91.230769\n",
      "South Park                  90.000000\n",
      "North College Park          89.105263\n",
      "Ravenna                     88.686567\n",
      "Dunlap                      88.300000\n",
      "Crown Hill                  87.666667\n",
      "Highland Park               86.272727\n",
      "South Beacon Hill           83.250000\n",
      "Bitter Lake                 83.000000\n",
      "Victory Heights             81.466667\n",
      "Riverview                   80.500000\n",
      "Maple Leaf                  80.261905\n",
      "Mid-Beacon Hill             79.933333\n",
      "North Delridge              76.375000\n",
      "Georgetown                  76.125000\n",
      "South Delridge              74.666667\n",
      "Olympic Hills               71.687500\n",
      "Rainier Beach               68.555556\n",
      "\n",
      "[87 rows x 1 columns]\n"
     ]
    }
   ],
   "source": [
    "# now lets explore our second business requirement which was about pricing trends \n",
    "#pricing trends, we'll checkout pricing trends per neighberhood and per month \n",
    "# lets get started \n",
    "# lets find the average price of listings per neighberhoods\n",
    "# lets remove dollar sign from data and convert to float\n",
    "listings_df['price'] = listings_df['price'].replace('[\\$,]', '', regex=True).astype(float)\n",
    "price_mean = listings_df.groupby(['neighbourhood_cleansed'])[['price']].mean().sort_values(by='price',ascending=False)\n",
    "print(price_mean)"
   ]
  },
  {
   "cell_type": "code",
   "execution_count": 463,
   "metadata": {},
   "outputs": [
    {
     "data": {
      "text/plain": [
       "<matplotlib.axes._subplots.AxesSubplot at 0x14c64ecd6d8>"
      ]
     },
     "execution_count": 463,
     "metadata": {},
     "output_type": "execute_result"
    },
    {
     "data": {
      "image/png": "[encoded data removed]",
      "text/plain": [
       "<Figure size 432x288 with 1 Axes>"
      ]
     },
     "metadata": {
      "needs_background": "light"
     },
     "output_type": "display_data"
    }
   ],
   "source": [
    "#lets visualize our findings\n",
    "listings_df.groupby(['neighbourhood_cleansed'])[['price']].mean().plot(kind ='hist')"
   ]
  },
  {
   "cell_type": "code",
   "execution_count": 464,
   "metadata": {},
   "outputs": [
    {
     "data": {
      "text/plain": [
       "<matplotlib.axes._subplots.AxesSubplot at 0x14c43af8860>"
      ]
     },
     "execution_count": 464,
     "metadata": {},
     "output_type": "execute_result"
    },
    {
     "data": {
      "image/png": "[encoded data removed]",
      "text/plain": [
       "<Figure size 432x288 with 1 Axes>"
      ]
     },
     "metadata": {
      "needs_background": "light"
     },
     "output_type": "display_data"
    }
   ],
   "source": [
    "# as we did with our reviews dataset lets get the top 5 pricy neighberhoods\n",
    "#and the top 5 cheapest \n",
    "pricy = listings_df.groupby(['neighbourhood_cleansed'])[['price']].mean().sort_values(by='price',ascending=False)\n",
    "pricy.head(5).plot(kind='bar', color=\"pink\")"
   ]
  },
  {
   "cell_type": "code",
   "execution_count": 465,
   "metadata": {},
   "outputs": [
    {
     "data": {
      "text/plain": [
       "<matplotlib.axes._subplots.AxesSubplot at 0x14c199281d0>"
      ]
     },
     "execution_count": 465,
     "metadata": {},
     "output_type": "execute_result"
    },
    {
     "data": {
      "image/png": "[encoded data removed]",
      "text/plain": [
       "<Figure size 432x288 with 1 Axes>"
      ]
     },
     "metadata": {
      "needs_background": "light"
     },
     "output_type": "display_data"
    }
   ],
   "source": [
    "#top 5 cheapest neigberhoods??\n",
    "pricy.tail(5).plot(kind='bar', color=\"purple\")"
   ]
  },
  {
   "cell_type": "code",
   "execution_count": 466,
   "metadata": {},
   "outputs": [],
   "source": [
    "# now lets check out our data per year/month\n",
    "calendar_df['year'] = pd.DatetimeIndex(calendar_df['date']).year\n",
    "calendar_df['month'] = pd.DatetimeIndex(calendar_df['date']).month\n",
    "# remove dollar sign from data and convert to float\n",
    "calendar_df['price'] = calendar_df['price'].replace('[\\$,]', '', regex=True).astype(float)"
   ]
  },
  {
   "cell_type": "code",
   "execution_count": 467,
   "metadata": {},
   "outputs": [
    {
     "data": {
      "text/plain": [
       "<matplotlib.axes._subplots.AxesSubplot at 0x14c4391a630>"
      ]
     },
     "execution_count": 467,
     "metadata": {},
     "output_type": "execute_result"
    },
    {
     "data": {
      "image/png": "[encoded data removed]",
      "text/plain": [
       "<Figure size 432x288 with 1 Axes>"
      ]
     },
     "metadata": {
      "needs_background": "light"
     },
     "output_type": "display_data"
    }
   ],
   "source": [
    "calendar_df.groupby(['year','month'])[['price']].mean().plot(kind=\"bar\", color= \"lime\")"
   ]
  },
  {
   "cell_type": "markdown",
   "metadata": {},
   "source": [
    "##### Conclusion:\n",
    "\n",
    "Well looking at our analysis we note that the top 3 most expenssive neighberhoods are SouthEast Magnolia(231.70 USD), Portage Bay(227.85 USD) and Westlake(194.47 USD) . While our cheapest are South Delridge(74.66 USD),Olympic Hills (71.68 USD) and the cheapest neighberhood: Rainier Beach (68.55 USD). \n",
    "and looking at the price range per month, we can tell business is at its peak during summertime (June, July and August) and becomes really slow during wintertime(January, Febuary)."
   ]
  },
  {
   "cell_type": "code",
   "execution_count": 468,
   "metadata": {},
   "outputs": [
    {
     "data": {
      "text/plain": [
       "['license']"
      ]
     },
     "execution_count": 468,
     "metadata": {},
     "output_type": "execute_result"
    }
   ],
   "source": [
    "# now moving on to our final business requirments \n",
    "# our ability to find pattern and pridict future prices \n",
    "#lets start\n",
    "# first lets find columns with NaNs \n",
    "listings_df.columns[listings_df.isnull().all()].tolist()"
   ]
  },
  {
   "cell_type": "code",
   "execution_count": 469,
   "metadata": {},
   "outputs": [],
   "source": [
    "#seeing that the license column doesnt impact price lets drop it\n",
    "#but first lets copy this dataframe and work on it \n",
    "pdf = listings_df.copy()\n",
    "pdf = pdf.drop('license', axis=1)"
   ]
  },
  {
   "cell_type": "code",
   "execution_count": 470,
   "metadata": {},
   "outputs": [
    {
     "name": "stdout",
     "output_type": "stream",
     "text": [
      "host_listings_count 2\n",
      "host_total_listings_count 2\n",
      "latitude 0\n",
      "longitude 0\n",
      "bathrooms 16\n",
      "bedrooms 6\n",
      "beds 1\n",
      "square_feet 3721\n",
      "price 0\n",
      "review_scores_rating 647\n",
      "review_scores_accuracy 658\n",
      "review_scores_cleanliness 653\n",
      "review_scores_checkin 658\n",
      "review_scores_communication 651\n",
      "review_scores_location 655\n",
      "review_scores_value 656\n",
      "reviews_per_month 627\n"
     ]
    }
   ],
   "source": [
    "# lets review missing data for numerical values\n",
    "cnt_cols = pdf.select_dtypes(include=['float', 'int']).columns\n",
    "for i in cnt_cols:\n",
    "    print(i, pdf[i].isnull().sum())"
   ]
  },
  {
   "cell_type": "code",
   "execution_count": 471,
   "metadata": {},
   "outputs": [],
   "source": [
    "# looking at our missing data we will use binary filling for the missing data\n",
    "# we will use 0 and 1 to fill in NaNs\n",
    "# data regarding hosting only two data are missing so we will fill NaNs with 1\n",
    "# Since the min value for a bathrooms and bedrooms is zero we will fill NaN with 0\n",
    "# Since the min value for beds is 1 we will fill NaN with 1\n",
    "# As for the Square_feet column it has alot of NaNs and is irrelevent to our analysis so lets drop it \n",
    "# as for all review based columns since the min data is 0 we will fill them with 0\n",
    "\n",
    "#lets excute our plan \n",
    "# Team zero fill \n",
    "pdf['bathrooms'] = pdf['bathrooms'].fillna(0)\n",
    "pdf['bedrooms'] = pdf['bedrooms'].fillna(0)\n",
    "r_zero = ['review_scores_rating' ,\n",
    "'review_scores_accuracy' ,\n",
    "'review_scores_cleanliness' ,\n",
    "'review_scores_checkin' ,\n",
    "'review_scores_communication' ,\n",
    "'review_scores_location' ,\n",
    "'review_scores_value' ,\n",
    "'reviews_per_month']\n",
    "# loop through and zero all them NaNs\n",
    "for i in r_zero:\n",
    "    pdf[i] = pdf[i].fillna(0)\n",
    "\n",
    "# Team one fill\n",
    "pdf['beds'] = pdf['beds'].fillna(1)\n",
    "hosts = ['host_listings_count' ,\n",
    "'host_total_listings_count' ]\n",
    "for h in hosts:\n",
    "    pdf[h] = pdf[i].fillna(1)\n",
    "    \n",
    "# drop drop\n",
    "pdf = pdf.drop('square_feet',axis=1)"
   ]
  },
  {
   "cell_type": "code",
   "execution_count": 472,
   "metadata": {},
   "outputs": [
    {
     "name": "stdout",
     "output_type": "stream",
     "text": [
      "host_listings_count 0\n",
      "host_total_listings_count 0\n",
      "latitude 0\n",
      "longitude 0\n",
      "bathrooms 0\n",
      "bedrooms 0\n",
      "beds 0\n",
      "price 0\n",
      "review_scores_rating 0\n",
      "review_scores_accuracy 0\n",
      "review_scores_cleanliness 0\n",
      "review_scores_checkin 0\n",
      "review_scores_communication 0\n",
      "review_scores_location 0\n",
      "review_scores_value 0\n",
      "reviews_per_month 0\n"
     ]
    }
   ],
   "source": [
    "# now lets check that all our numerical NaNs have been filled\n",
    "cnt_cols = pdf.select_dtypes(include=['float', 'int']).columns\n",
    "for i in cnt_cols:\n",
    "    print(i, pdf[i].isnull().sum())"
   ]
  },
  {
   "cell_type": "code",
   "execution_count": 473,
   "metadata": {},
   "outputs": [
    {
     "name": "stdout",
     "output_type": "stream",
     "text": [
      "listing_url 0\n",
      "last_scraped 0\n",
      "name 0\n",
      "summary 177\n",
      "space 569\n",
      "description 0\n",
      "experiences_offered 0\n",
      "neighborhood_overview 1032\n",
      "notes 1606\n",
      "transit 934\n",
      "thumbnail_url 320\n",
      "medium_url 320\n",
      "picture_url 0\n",
      "xl_picture_url 320\n",
      "host_url 0\n",
      "host_name 2\n",
      "host_since 2\n",
      "host_location 8\n",
      "host_about 859\n",
      "host_response_time 523\n",
      "host_response_rate 523\n",
      "host_acceptance_rate 773\n",
      "host_is_superhost 2\n",
      "host_thumbnail_url 2\n",
      "host_picture_url 2\n",
      "host_neighbourhood 300\n",
      "host_verifications 0\n",
      "host_has_profile_pic 2\n",
      "host_identity_verified 2\n",
      "street 0\n",
      "neighbourhood 416\n",
      "neighbourhood_cleansed 0\n",
      "neighbourhood_group_cleansed 0\n",
      "city 0\n",
      "state 0\n",
      "zipcode 7\n",
      "market 0\n",
      "smart_location 0\n",
      "country_code 0\n",
      "country 0\n",
      "is_location_exact 0\n",
      "property_type 1\n",
      "room_type 0\n",
      "bed_type 0\n",
      "amenities 0\n",
      "weekly_price 1809\n",
      "monthly_price 2301\n",
      "security_deposit 1952\n",
      "cleaning_fee 1030\n",
      "extra_people 0\n",
      "calendar_updated 0\n",
      "has_availability 0\n",
      "calendar_last_scraped 0\n",
      "first_review 627\n",
      "last_review 627\n",
      "requires_license 0\n",
      "jurisdiction_names 0\n",
      "instant_bookable 0\n",
      "cancellation_policy 0\n",
      "require_guest_profile_picture 0\n",
      "require_guest_phone_verification 0\n"
     ]
    }
   ],
   "source": [
    "# looking good! now lets see categorical data\n",
    "cnt_cate = pdf.select_dtypes(include=['object']).columns\n",
    "for i in cnt_cate:\n",
    "    print(i, pdf[i].isnull().sum())"
   ]
  },
  {
   "cell_type": "code",
   "execution_count": 474,
   "metadata": {},
   "outputs": [],
   "source": [
    "# we notice we have some columns with missing data lets do some filling magic\n",
    "# we will do the following for text data~> convert them to boolean to determine if the exist or not\n",
    "# we will do this to data describing property and host \n",
    "# we will drop columns with too many NaNs and not of much use to our analysis\n",
    "# we will expolre data and convert values that need to be converted and standerize our data (Mainly in cities and states)\n",
    "# the amenities is an array we will propbly need to breakdown and fill..\n",
    "# Cleaning challenge accepted lets start\n",
    "\n",
    "# we will start by converteing text data to boolean \n",
    "\n",
    "def text_boolean(txt):\n",
    "    if not txt:\n",
    "        return 0\n",
    "    else:\n",
    "        return 1\n",
    "    "
   ]
  },
  {
   "cell_type": "code",
   "execution_count": 475,
   "metadata": {},
   "outputs": [],
   "source": [
    "txt_array= [\n",
    "        'summary' , \n",
    "        'space' ,\n",
    "        'neighborhood_overview',\n",
    "        'notes' ,'transit' ,'thumbnail_url' ,'medium_url' ,\n",
    "        'xl_picture_url' ,'host_name' ,'host_since' ,'host_location' ,\n",
    "        'host_about' , 'host_thumbnail_url' , 'host_picture_url' ,\n",
    "        'host_neighbourhood', 'zipcode' ]\n",
    "for i in txt_array:\n",
    "    pdf[i] = pdf[i].apply(text_boolean)"
   ]
  },
  {
   "cell_type": "code",
   "execution_count": 476,
   "metadata": {},
   "outputs": [],
   "source": [
    "# now lets convert bool to int (1 or 0)\n",
    "\n",
    "def convert_bool (bl):\n",
    "    if bl == 't':\n",
    "        return 1\n",
    "    else:\n",
    "        return 0"
   ]
  },
  {
   "cell_type": "code",
   "execution_count": 477,
   "metadata": {},
   "outputs": [],
   "source": [
    "bl_array = ['host_is_superhost', \n",
    "           'host_has_profile_pic' , 'host_identity_verified',\n",
    "            'has_availability','requires_license',\n",
    "            'instant_bookable','require_guest_profile_picture'\n",
    "            ,'require_guest_phone_verification']\n",
    "for i in bl_array:\n",
    "    pdf[i] = pdf[i].apply(convert_bool)"
   ]
  },
  {
   "cell_type": "code",
   "execution_count": 478,
   "metadata": {},
   "outputs": [],
   "source": [
    "# lets fill blacks with the word \"unavailable\"\n",
    "# Exploring the data we can conclude that unavailable is denoted by N/A\n",
    "#to keep data consistent \n",
    "\n",
    "pdf['host_response_time'] = pdf['host_response_time'].fillna('N/A')\n",
    "pdf['host_acceptance_rate'] = pdf['host_acceptance_rate'].fillna('N/A')\n",
    "\n",
    "# filter and fill host_response_rate , security_deposit, cleaning_fee and extra people\n",
    "pdf['host_response_rate'] = pdf['host_response_rate'].apply(lambda x: 0 if x == 'N/A'  else x)\n",
    "pdf['host_response_rate'] = pdf['host_response_rate'].replace('[\\%,]', '', regex=True).astype(float)\n",
    "pdf['host_response_rate'] = pdf['host_response_rate'].fillna(0)\n",
    "pdf['security_deposit'] = pdf['security_deposit'].replace('[\\$,]', '', regex=True).astype(float)\n",
    "pdf['cleaning_fee'] = pdf['cleaning_fee'].replace('[\\$,]', '', regex=True).astype(float)\n",
    "pdf['extra_people'] = pdf['extra_people'].replace('[\\$,]', '', regex=True).astype(float)\n",
    "pdf['security_deposit'] = pdf['security_deposit'].fillna(0)\n",
    "pdf['cleaning_fee'] = pdf['cleaning_fee'].fillna(0)\n",
    "\n",
    "# lets standerize cities and states \n",
    "pdf['state'] = pdf['state'].str.lower()\n",
    "pdf['city'] = pdf['city'].str.lower()\n",
    "pdf['city'] = pdf['city'].str.strip()\n",
    "\n",
    "# drip drop~ lets drop rows/columns we dont need \n",
    "# lets drop rows for property types..since its just one record it wont have a big impact\n",
    "pdf = pdf.dropna(subset=['property_type'], axis=0)\n",
    "\n",
    "# lets drop columns we dont need\n",
    "drop_ = ['first_review',\n",
    "         'last_review','experiences_offered','market',\n",
    "         'jurisdiction_names', 'weekly_price' ,'monthly_price', 'neighbourhood']\n",
    "pdf = pdf.drop(drop_, axis=1)"
   ]
  },
  {
   "cell_type": "code",
   "execution_count": 479,
   "metadata": {
    "scrolled": true
   },
   "outputs": [
    {
     "name": "stdout",
     "output_type": "stream",
     "text": [
      "listing_url 0\n",
      "last_scraped 0\n",
      "name 0\n",
      "description 0\n",
      "picture_url 0\n",
      "host_url 0\n",
      "host_response_time 0\n",
      "host_acceptance_rate 0\n",
      "host_verifications 0\n",
      "street 0\n",
      "neighbourhood_cleansed 0\n",
      "neighbourhood_group_cleansed 0\n",
      "city 0\n",
      "state 0\n",
      "smart_location 0\n",
      "country_code 0\n",
      "country 0\n",
      "is_location_exact 0\n",
      "property_type 0\n",
      "room_type 0\n",
      "bed_type 0\n",
      "amenities 0\n",
      "calendar_updated 0\n",
      "calendar_last_scraped 0\n",
      "cancellation_policy 0\n"
     ]
    }
   ],
   "source": [
    "# lets run our NaN code to make sure we cleaned all data\n",
    "cnt_cate = pdf.select_dtypes(include=['object']).columns\n",
    "for i in cnt_cate:\n",
    "    print(i, pdf[i].isnull().sum())"
   ]
  },
  {
   "cell_type": "code",
   "execution_count": 480,
   "metadata": {},
   "outputs": [
    {
     "data": {
      "text/plain": [
       "[('Wireless Internet', 3666),\n",
       " ('Heating', 3626),\n",
       " ('Kitchen', 3422),\n",
       " ('Smoke Detector', 3280),\n",
       " ('Essentials', 3237),\n",
       " ('Dryer', 2996),\n",
       " ('Washer', 2991),\n",
       " ('Internet', 2811),\n",
       " ('Shampoo', 2670),\n",
       " ('TV', 2574),\n",
       " ('Carbon Monoxide Detector', 2485),\n",
       " ('Fire Extinguisher', 2196),\n",
       " ('Free Parking on Premises', 2166),\n",
       " ('Family/Kid Friendly', 1962),\n",
       " ('First Aid Kit', 1679),\n",
       " ('Cable TV', 1446),\n",
       " ('Indoor Fireplace', 885),\n",
       " ('Pets live on this property', 882),\n",
       " ('Hangers', 846),\n",
       " ('Elevator in Building', 785),\n",
       " ('Hair Dryer', 774),\n",
       " ('Laptop Friendly Workspace', 745),\n",
       " ('Iron', 742),\n",
       " ('Safety Card', 727),\n",
       " ('Air Conditioning', 677),\n",
       " ('24-Hour Check-in', 616),\n",
       " ('Buzzer/Wireless Intercom', 538),\n",
       " ('Dog(s)', 508),\n",
       " ('Pets Allowed', 472),\n",
       " ('Gym', 442),\n",
       " ('Cat(s)', 382),\n",
       " ('Hot Tub', 303),\n",
       " ('Wheelchair Accessible', 300),\n",
       " ('Breakfast', 291),\n",
       " ('Suitable for Events', 209),\n",
       " ('Pool', 159),\n",
       " ('Lock on Bedroom Door', 100),\n",
       " ('Doorman', 85),\n",
       " ('Smoking Allowed', 82),\n",
       " ('Other pet(s)', 50),\n",
       " ('', 45),\n",
       " ('Washer / Dryer', 2)]"
      ]
     },
     "execution_count": 480,
     "metadata": {},
     "output_type": "execute_result"
    }
   ],
   "source": [
    "# our categorical data is looking good \n",
    "# now lets explore amenities and clean them\n",
    "# as we mentioned earlier, upon investigating we noticed that that amenities are stored as an array \n",
    "# lets strip amenities from special characters\n",
    "\n",
    "amt_array = []\n",
    "for i , record in pdf.iterrows():\n",
    "    record['amenities'] = record['amenities'].replace('\"','')\n",
    "    record['amenities'] = record['amenities'].replace('{','')\n",
    "    record['amenities'] = record['amenities'].replace('}','')\n",
    "    amt_list = record['amenities'].split(',')\n",
    "    for x in amt_list:\n",
    "        amt_array.append(x)\n",
    "cnt_amt = Counter(amt_array)\n",
    "cnt_amt.most_common()"
   ]
  },
  {
   "cell_type": "code",
   "execution_count": 481,
   "metadata": {},
   "outputs": [
    {
     "data": {
      "text/plain": [
       "Index(['listing_url', 'last_scraped', 'name', 'description', 'picture_url',\n",
       "       'host_url', 'host_response_time', 'host_acceptance_rate',\n",
       "       'host_verifications', 'street', 'neighbourhood_cleansed',\n",
       "       'neighbourhood_group_cleansed', 'city', 'state', 'smart_location',\n",
       "       'country_code', 'country', 'is_location_exact', 'property_type',\n",
       "       'room_type', 'bed_type', 'amenities', 'calendar_updated',\n",
       "       'calendar_last_scraped', 'cancellation_policy'],\n",
       "      dtype='object')"
      ]
     },
     "execution_count": 481,
     "metadata": {},
     "output_type": "execute_result"
    }
   ],
   "source": [
    "# our ammenties look good! \n",
    "# now lets check on the remaining categorical data\n",
    "pdf.select_dtypes(include = ['object']).columns"
   ]
  },
  {
   "cell_type": "code",
   "execution_count": 482,
   "metadata": {},
   "outputs": [],
   "source": [
    "#nope still needs further cleaning\n",
    "#lets drop columns that don't impact price\n",
    "''''''\n",
    "to_drop = ['listing_url', 'last_scraped', 'name', \n",
    "'description', 'picture_url','host_url', 'host_verifications', 'street', 'neighbourhood_group_cleansed', \n",
    "'smart_location','country','is_location_exact', 'calendar_updated', \n",
    "'calendar_last_scraped']\n",
    "\n",
    "pdf = pdf.drop(to_drop, axis=1)\n"
   ]
  },
  {
   "cell_type": "code",
   "execution_count": 483,
   "metadata": {},
   "outputs": [
    {
     "data": {
      "text/plain": [
       "Index(['host_response_time', 'host_acceptance_rate', 'neighbourhood_cleansed',\n",
       "       'city', 'state', 'country_code', 'property_type', 'room_type',\n",
       "       'bed_type', 'amenities', 'cancellation_policy'],\n",
       "      dtype='object')"
      ]
     },
     "execution_count": 483,
     "metadata": {},
     "output_type": "execute_result"
    }
   ],
   "source": [
    "# now lets check on the remaining categorical data\n",
    "pdf.select_dtypes(include = ['object']).columns"
   ]
  },
  {
   "cell_type": "code",
   "execution_count": 484,
   "metadata": {},
   "outputs": [],
   "source": [
    "# lets get dummies for our categorical data using pandas\n",
    "obj_data = pdf.select_dtypes(include = ['object']).columns"
   ]
  },
  {
   "cell_type": "code",
   "execution_count": 485,
   "metadata": {},
   "outputs": [
    {
     "data": {
      "text/html": [
       "<div>\n",
       "<style scoped>\n",
       "    .dataframe tbody tr th:only-of-type {\n",
       "        vertical-align: middle;\n",
       "    }\n",
       "\n",
       "    .dataframe tbody tr th {\n",
       "        vertical-align: top;\n",
       "    }\n",
       "\n",
       "    .dataframe thead th {\n",
       "        text-align: right;\n",
       "    }\n",
       "</style>\n",
       "<table border=\"1\" class=\"dataframe\">\n",
       "  <thead>\n",
       "    <tr style=\"text-align: right;\">\n",
       "      <th></th>\n",
       "      <th>id</th>\n",
       "      <th>scrape_id</th>\n",
       "      <th>summary</th>\n",
       "      <th>space</th>\n",
       "      <th>neighborhood_overview</th>\n",
       "      <th>notes</th>\n",
       "      <th>transit</th>\n",
       "      <th>thumbnail_url</th>\n",
       "      <th>medium_url</th>\n",
       "      <th>xl_picture_url</th>\n",
       "      <th>...</th>\n",
       "      <th>amenities_{TV,Kitchen,Gym,\"Elevator in Building\",Heating,Washer,Dryer,\"Smoke Detector\",\"Carbon Monoxide Detector\"}</th>\n",
       "      <th>amenities_{TV,Kitchen,Heating,\"Smoke Detector\",\"Carbon Monoxide Detector\",\"First Aid Kit\",\"Fire Extinguisher\",Essentials}</th>\n",
       "      <th>amenities_{TV,Kitchen,Heating,Washer,Dryer,\"Smoke Detector\",\"Carbon Monoxide Detector\",Essentials,Shampoo}</th>\n",
       "      <th>amenities_{TV,Pool,Kitchen,\"Elevator in Building\",\"Buzzer/Wireless Intercom\",Heating,Washer,Dryer,Essentials,Shampoo}</th>\n",
       "      <th>amenities_{TV,Pool,Kitchen,\"Pets Allowed\",Gym,\"Pets live on this property\",Dog(s),Cat(s),\"Elevator in Building\",\"Hot Tub\",\"Indoor Fireplace\",Heating,\"Family/Kid Friendly\",Washer,Dryer,Essentials,Hangers,Iron,\"Laptop Friendly Workspace\"}</th>\n",
       "      <th>amenities_{TV,Pool,Kitchen,Heating,Washer,Dryer,\"Smoke Detector\",\"Carbon Monoxide Detector\",\"First Aid Kit\",\"Fire Extinguisher\",Essentials,Shampoo,Hangers,\"Hair Dryer\",Iron}</th>\n",
       "      <th>amenities_{}</th>\n",
       "      <th>cancellation_policy_flexible</th>\n",
       "      <th>cancellation_policy_moderate</th>\n",
       "      <th>cancellation_policy_strict</th>\n",
       "    </tr>\n",
       "  </thead>\n",
       "  <tbody>\n",
       "    <tr>\n",
       "      <th>0</th>\n",
       "      <td>241032</td>\n",
       "      <td>20160104002432</td>\n",
       "      <td>1</td>\n",
       "      <td>1</td>\n",
       "      <td>1</td>\n",
       "      <td>1</td>\n",
       "      <td>1</td>\n",
       "      <td>1</td>\n",
       "      <td>1</td>\n",
       "      <td>1</td>\n",
       "      <td>...</td>\n",
       "      <td>0</td>\n",
       "      <td>0</td>\n",
       "      <td>0</td>\n",
       "      <td>0</td>\n",
       "      <td>0</td>\n",
       "      <td>0</td>\n",
       "      <td>0</td>\n",
       "      <td>0</td>\n",
       "      <td>1</td>\n",
       "      <td>0</td>\n",
       "    </tr>\n",
       "    <tr>\n",
       "      <th>1</th>\n",
       "      <td>953595</td>\n",
       "      <td>20160104002432</td>\n",
       "      <td>1</td>\n",
       "      <td>1</td>\n",
       "      <td>1</td>\n",
       "      <td>1</td>\n",
       "      <td>1</td>\n",
       "      <td>1</td>\n",
       "      <td>1</td>\n",
       "      <td>1</td>\n",
       "      <td>...</td>\n",
       "      <td>0</td>\n",
       "      <td>0</td>\n",
       "      <td>0</td>\n",
       "      <td>0</td>\n",
       "      <td>0</td>\n",
       "      <td>0</td>\n",
       "      <td>0</td>\n",
       "      <td>0</td>\n",
       "      <td>0</td>\n",
       "      <td>1</td>\n",
       "    </tr>\n",
       "    <tr>\n",
       "      <th>2</th>\n",
       "      <td>3308979</td>\n",
       "      <td>20160104002432</td>\n",
       "      <td>1</td>\n",
       "      <td>1</td>\n",
       "      <td>1</td>\n",
       "      <td>1</td>\n",
       "      <td>1</td>\n",
       "      <td>1</td>\n",
       "      <td>1</td>\n",
       "      <td>1</td>\n",
       "      <td>...</td>\n",
       "      <td>0</td>\n",
       "      <td>0</td>\n",
       "      <td>0</td>\n",
       "      <td>0</td>\n",
       "      <td>0</td>\n",
       "      <td>0</td>\n",
       "      <td>0</td>\n",
       "      <td>0</td>\n",
       "      <td>0</td>\n",
       "      <td>1</td>\n",
       "    </tr>\n",
       "    <tr>\n",
       "      <th>3</th>\n",
       "      <td>7421966</td>\n",
       "      <td>20160104002432</td>\n",
       "      <td>1</td>\n",
       "      <td>1</td>\n",
       "      <td>1</td>\n",
       "      <td>1</td>\n",
       "      <td>1</td>\n",
       "      <td>1</td>\n",
       "      <td>1</td>\n",
       "      <td>1</td>\n",
       "      <td>...</td>\n",
       "      <td>0</td>\n",
       "      <td>0</td>\n",
       "      <td>0</td>\n",
       "      <td>0</td>\n",
       "      <td>0</td>\n",
       "      <td>0</td>\n",
       "      <td>0</td>\n",
       "      <td>1</td>\n",
       "      <td>0</td>\n",
       "      <td>0</td>\n",
       "    </tr>\n",
       "    <tr>\n",
       "      <th>4</th>\n",
       "      <td>278830</td>\n",
       "      <td>20160104002432</td>\n",
       "      <td>1</td>\n",
       "      <td>1</td>\n",
       "      <td>1</td>\n",
       "      <td>1</td>\n",
       "      <td>1</td>\n",
       "      <td>1</td>\n",
       "      <td>1</td>\n",
       "      <td>1</td>\n",
       "      <td>...</td>\n",
       "      <td>0</td>\n",
       "      <td>0</td>\n",
       "      <td>0</td>\n",
       "      <td>0</td>\n",
       "      <td>0</td>\n",
       "      <td>0</td>\n",
       "      <td>0</td>\n",
       "      <td>0</td>\n",
       "      <td>0</td>\n",
       "      <td>1</td>\n",
       "    </tr>\n",
       "  </tbody>\n",
       "</table>\n",
       "<p>5 rows × 3469 columns</p>\n",
       "</div>"
      ],
      "text/plain": [
       "        id       scrape_id  summary  space  neighborhood_overview  notes  \\\n",
       "0   241032  20160104002432        1      1                      1      1   \n",
       "1   953595  20160104002432        1      1                      1      1   \n",
       "2  3308979  20160104002432        1      1                      1      1   \n",
       "3  7421966  20160104002432        1      1                      1      1   \n",
       "4   278830  20160104002432        1      1                      1      1   \n",
       "\n",
       "   transit  thumbnail_url  medium_url  xl_picture_url  \\\n",
       "0        1              1           1               1   \n",
       "1        1              1           1               1   \n",
       "2        1              1           1               1   \n",
       "3        1              1           1               1   \n",
       "4        1              1           1               1   \n",
       "\n",
       "              ...              \\\n",
       "0             ...               \n",
       "1             ...               \n",
       "2             ...               \n",
       "3             ...               \n",
       "4             ...               \n",
       "\n",
       "   amenities_{TV,Kitchen,Gym,\"Elevator in Building\",Heating,Washer,Dryer,\"Smoke Detector\",\"Carbon Monoxide Detector\"}  \\\n",
       "0                                                  0                                                                    \n",
       "1                                                  0                                                                    \n",
       "2                                                  0                                                                    \n",
       "3                                                  0                                                                    \n",
       "4                                                  0                                                                    \n",
       "\n",
       "   amenities_{TV,Kitchen,Heating,\"Smoke Detector\",\"Carbon Monoxide Detector\",\"First Aid Kit\",\"Fire Extinguisher\",Essentials}  \\\n",
       "0                                                  0                                                                           \n",
       "1                                                  0                                                                           \n",
       "2                                                  0                                                                           \n",
       "3                                                  0                                                                           \n",
       "4                                                  0                                                                           \n",
       "\n",
       "   amenities_{TV,Kitchen,Heating,Washer,Dryer,\"Smoke Detector\",\"Carbon Monoxide Detector\",Essentials,Shampoo}  \\\n",
       "0                                                  0                                                            \n",
       "1                                                  0                                                            \n",
       "2                                                  0                                                            \n",
       "3                                                  0                                                            \n",
       "4                                                  0                                                            \n",
       "\n",
       "   amenities_{TV,Pool,Kitchen,\"Elevator in Building\",\"Buzzer/Wireless Intercom\",Heating,Washer,Dryer,Essentials,Shampoo}  \\\n",
       "0                                                  0                                                                       \n",
       "1                                                  0                                                                       \n",
       "2                                                  0                                                                       \n",
       "3                                                  0                                                                       \n",
       "4                                                  0                                                                       \n",
       "\n",
       "   amenities_{TV,Pool,Kitchen,\"Pets Allowed\",Gym,\"Pets live on this property\",Dog(s),Cat(s),\"Elevator in Building\",\"Hot Tub\",\"Indoor Fireplace\",Heating,\"Family/Kid Friendly\",Washer,Dryer,Essentials,Hangers,Iron,\"Laptop Friendly Workspace\"}  \\\n",
       "0                                                  0                                                                                                                                                                                              \n",
       "1                                                  0                                                                                                                                                                                              \n",
       "2                                                  0                                                                                                                                                                                              \n",
       "3                                                  0                                                                                                                                                                                              \n",
       "4                                                  0                                                                                                                                                                                              \n",
       "\n",
       "   amenities_{TV,Pool,Kitchen,Heating,Washer,Dryer,\"Smoke Detector\",\"Carbon Monoxide Detector\",\"First Aid Kit\",\"Fire Extinguisher\",Essentials,Shampoo,Hangers,\"Hair Dryer\",Iron}  \\\n",
       "0                                                  0                                                                                                                               \n",
       "1                                                  0                                                                                                                               \n",
       "2                                                  0                                                                                                                               \n",
       "3                                                  0                                                                                                                               \n",
       "4                                                  0                                                                                                                               \n",
       "\n",
       "   amenities_{}  cancellation_policy_flexible  cancellation_policy_moderate  \\\n",
       "0             0                             0                             1   \n",
       "1             0                             0                             0   \n",
       "2             0                             0                             0   \n",
       "3             0                             1                             0   \n",
       "4             0                             0                             0   \n",
       "\n",
       "   cancellation_policy_strict  \n",
       "0                           0  \n",
       "1                           1  \n",
       "2                           1  \n",
       "3                           0  \n",
       "4                           1  \n",
       "\n",
       "[5 rows x 3469 columns]"
      ]
     },
     "execution_count": 485,
     "metadata": {},
     "output_type": "execute_result"
    }
   ],
   "source": [
    "pdf = pd.get_dummies(pdf, columns =obj_data)\n",
    "pdf.head()"
   ]
  },
  {
   "cell_type": "code",
   "execution_count": 486,
   "metadata": {},
   "outputs": [
    {
     "data": {
      "text/plain": [
       "(3817, 3469)"
      ]
     },
     "execution_count": 486,
     "metadata": {},
     "output_type": "execute_result"
    }
   ],
   "source": [
    "pdf.shape"
   ]
  },
  {
   "cell_type": "code",
   "execution_count": 487,
   "metadata": {},
   "outputs": [],
   "source": [
    "# great now lets get our X and Y and prepare our data for modeling\n",
    "X = pdf.drop(['price'], axis=1)\n",
    "Y= pdf['price']"
   ]
  },
  {
   "cell_type": "markdown",
   "metadata": {},
   "source": [
    "###  Modeling Step, Click * snap * shutter , wait ! not that kind of modeling \n",
    "In this step we will proceed to the next step which is data modeling. in this step we will divide our data into testing and training sets and create our model "
   ]
  },
  {
   "cell_type": "code",
   "execution_count": 488,
   "metadata": {},
   "outputs": [],
   "source": [
    "X_train, X_test, y_train, y_test = train_test_split(X, Y, test_size = .5 , random_state=50)"
   ]
  },
  {
   "cell_type": "code",
   "execution_count": 510,
   "metadata": {},
   "outputs": [
    {
     "name": "stdout",
     "output_type": "stream",
     "text": [
      "X train:  (1908, 3468)\n",
      "X test:  (1909, 3468)\n",
      "Y train:  (1908,)\n",
      "Y test:  (1909,)\n"
     ]
    }
   ],
   "source": [
    "# lets see our training and testing data \n",
    "print(\"X train: \", X_train.shape)\n",
    "print(\"X test: \",X_test.shape)\n",
    "print(\"Y train: \",y_train.shape)\n",
    "print(\"Y test: \",y_test.shape)"
   ]
  },
  {
   "cell_type": "code",
   "execution_count": 511,
   "metadata": {},
   "outputs": [
    {
     "name": "stderr",
     "output_type": "stream",
     "text": [
      "C:\\Users\\User\\Anaconda3\\lib\\site-packages\\sklearn\\ensemble\\forest.py:245: FutureWarning: The default value of n_estimators will change from 10 in version 0.20 to 100 in 0.22.\n",
      "  \"10 in version 0.20 to 100 in 0.22.\", FutureWarning)\n"
     ]
    },
    {
     "data": {
      "text/plain": [
       "RandomForestRegressor(bootstrap=True, criterion='mse', max_depth=None,\n",
       "                      max_features='auto', max_leaf_nodes=None,\n",
       "                      min_impurity_decrease=0.0, min_impurity_split=None,\n",
       "                      min_samples_leaf=1, min_samples_split=2,\n",
       "                      min_weight_fraction_leaf=0.0, n_estimators=10,\n",
       "                      n_jobs=None, oob_score=False, random_state=None,\n",
       "                      verbose=0, warm_start=False)"
      ]
     },
     "execution_count": 511,
     "metadata": {},
     "output_type": "execute_result"
    }
   ],
   "source": [
    "# lets choose randomforest as our model\n",
    "fr =  RandomForestRegressor()\n",
    "fr.fit(X_train, y_train)"
   ]
  },
  {
   "cell_type": "code",
   "execution_count": 512,
   "metadata": {},
   "outputs": [
    {
     "name": "stdout",
     "output_type": "stream",
     "text": [
      "the RSquared score on the training data is: 0.9285349142456575\n",
      "the RSquared score on the testing data is: 0.5702605987419416\n"
     ]
    }
   ],
   "source": [
    "#lets predict by using R scores\n",
    "pred_test = fr.predict(X_test)\n",
    "pred_train= fr.predict(X_train)\n",
    "r2_test = r2_score(y_test, pred_test)\n",
    "r2_train =r2_score(y_train, pred_train)\n",
    "\n",
    "print(\"the RSquared score on the training data is: {}\".format(r2_train))\n",
    "print(\"the RSquared score on the testing data is: {}\".format(r2_test))\n",
    "\n"
   ]
  },
  {
   "cell_type": "code",
   "execution_count": 513,
   "metadata": {},
   "outputs": [
    {
     "name": "stderr",
     "output_type": "stream",
     "text": [
      "C:\\Users\\User\\Anaconda3\\lib\\site-packages\\sklearn\\linear_model\\logistic.py:432: FutureWarning: Default solver will be changed to 'lbfgs' in 0.22. Specify a solver to silence this warning.\n",
      "  FutureWarning)\n",
      "C:\\Users\\User\\Anaconda3\\lib\\site-packages\\sklearn\\linear_model\\logistic.py:469: FutureWarning: Default multi_class will be changed to 'auto' in 0.22. Specify the multi_class option to silence this warning.\n",
      "  \"this warning.\", FutureWarning)\n"
     ]
    },
    {
     "data": {
      "text/plain": [
       "LogisticRegression(C=1.0, class_weight=None, dual=False, fit_intercept=True,\n",
       "                   intercept_scaling=1, l1_ratio=None, max_iter=100,\n",
       "                   multi_class='warn', n_jobs=None, penalty='l2',\n",
       "                   random_state=None, solver='warn', tol=0.0001, verbose=0,\n",
       "                   warm_start=False)"
      ]
     },
     "execution_count": 513,
     "metadata": {},
     "output_type": "execute_result"
    }
   ],
   "source": [
    "# the RSqured results seem very imbalanced for testing and training sets\n",
    "#lets try using a different model\n",
    "# second model will be Logistic Regression \n",
    "lr = LogisticRegression()\n",
    "lr.fit(X_train, y_train)"
   ]
  },
  {
   "cell_type": "code",
   "execution_count": 514,
   "metadata": {},
   "outputs": [
    {
     "name": "stdout",
     "output_type": "stream",
     "text": [
      "the RSquared score on the training data is: -0.05639585001459291\n",
      "the RSquared score on the testing data is: -0.06288589764813857\n"
     ]
    }
   ],
   "source": [
    "pred_test_lr = lr.predict(X_test)\n",
    "pred_train_lr= lr.predict(X_train)\n",
    "r2_test_lr = r2_score(y_test, pred_test_lr)\n",
    "r2_train_lr =r2_score(y_train, pred_train_lr)\n",
    "\n",
    "print(\"the RSquared score on the training data is: {}\".format(r2_train_lr))\n",
    "print(\"the RSquared score on the testing data is: {}\".format(r2_test_lr))"
   ]
  },
  {
   "cell_type": "code",
   "execution_count": 515,
   "metadata": {},
   "outputs": [
    {
     "data": {
      "text/plain": [
       "LinearRegression(copy_X=True, fit_intercept=True, n_jobs=None, normalize=True)"
      ]
     },
     "execution_count": 515,
     "metadata": {},
     "output_type": "execute_result"
    }
   ],
   "source": [
    "# the R2 scores of the logistic regression model is too small and negative\n",
    "# lets try a linear regression model \n",
    "linear = LinearRegression(normalize=True) \n",
    "linear.fit(X_train, y_train)"
   ]
  },
  {
   "cell_type": "code",
   "execution_count": 516,
   "metadata": {},
   "outputs": [
    {
     "name": "stdout",
     "output_type": "stream",
     "text": [
      "the RSquared score on the training data is: -1.310869575575184e+24\n",
      "the RSquared score on the testing data is: -1.8074603754443357e+27\n"
     ]
    }
   ],
   "source": [
    "pred_test_ = linear.predict(X_test)\n",
    "pred_train_= linear.predict(X_train)\n",
    "r2_test_ = r2_score(y_test, pred_test_)\n",
    "r2_train_ =r2_score(y_train, pred_train_)\n",
    "\n",
    "print(\"the RSquared score on the training data is: {}\".format(r2_train_))\n",
    "print(\"the RSquared score on the testing data is: {}\".format(r2_test_))"
   ]
  },
  {
   "cell_type": "code",
   "execution_count": 528,
   "metadata": {},
   "outputs": [
    {
     "name": "stdout",
     "output_type": "stream",
     "text": [
      "accuracy for ForestRegressor:  0.5818824724238598\n",
      "accuracy for Logistic Regression:  0.041906757464641176\n",
      "accuracy for Linear Regression:  -1.8074603754443357e+27\n"
     ]
    }
   ],
   "source": [
    "#lets get accuracy of each model\n",
    "acc_rf = rf.score(X_test, y_test)\n",
    "acc_lr = lr.score(X_test, y_test)\n",
    "acc_linear = linear.score(X_test, y_test)\n",
    "print('accuracy for ForestRegressor: ',acc_rf)\n",
    "print('accuracy for Logistic Regression: ',acc_lr)\n",
    "print('accuracy for Linear Regression: ',acc_linear )"
   ]
  },
  {
   "cell_type": "markdown",
   "metadata": {},
   "source": [
    "intersting out of the three models we've run, Linear regression seemed to give us the best R2 scores and accuracy for our data.\n",
    "Thus we will evaluate the linear regression model\n",
    "\n",
    "UPDATE: after running the linear regression i found that some extra columns needed to be dropped. which is why the results of R2 and accuracy have changed."
   ]
  },
  {
   "cell_type": "markdown",
   "metadata": {},
   "source": [
    "### Testing 1, 2, 3.. Evaluate!!\n",
    "After testing 3 models and selecting the model that showed us the best R2 results. we will use coeffient analysis on the data to evaluate our model. \n",
    "\n",
    "UPDATE: after re-cleaning the data we found out the RandomForestRegressor is the best model for our problem so we will evaluate it after we evaluate linearregression"
   ]
  },
  {
   "cell_type": "code",
   "execution_count": 518,
   "metadata": {},
   "outputs": [],
   "source": [
    "def coefficient_analysis(coeff , X_train):\n",
    "    cdf = pd.DataFrame()\n",
    "    cdf['est_int'] = X_train.columns\n",
    "    cdf['coefs'] = linear.coef_\n",
    "    cdf['abs_coefs'] = np.abs(linear.coef_)\n",
    "    cdf = cdf.sort_values('abs_coefs', ascending=False)\n",
    "    return cdf"
   ]
  },
  {
   "cell_type": "code",
   "execution_count": 519,
   "metadata": {},
   "outputs": [],
   "source": [
    "coefficent = coefficient_analysis(linear.coef_, X_train)"
   ]
  },
  {
   "cell_type": "code",
   "execution_count": 520,
   "metadata": {},
   "outputs": [
    {
     "data": {
      "text/html": [
       "<div>\n",
       "<style scoped>\n",
       "    .dataframe tbody tr th:only-of-type {\n",
       "        vertical-align: middle;\n",
       "    }\n",
       "\n",
       "    .dataframe tbody tr th {\n",
       "        vertical-align: top;\n",
       "    }\n",
       "\n",
       "    .dataframe thead th {\n",
       "        text-align: right;\n",
       "    }\n",
       "</style>\n",
       "<table border=\"1\" class=\"dataframe\">\n",
       "  <thead>\n",
       "    <tr style=\"text-align: right;\">\n",
       "      <th></th>\n",
       "      <th>est_int</th>\n",
       "      <th>coefs</th>\n",
       "      <th>abs_coefs</th>\n",
       "    </tr>\n",
       "  </thead>\n",
       "  <tbody>\n",
       "    <tr>\n",
       "      <th>245</th>\n",
       "      <td>amenities_{\"Cable TV\",\"Wireless Internet\",Kitc...</td>\n",
       "      <td>5.951166e+16</td>\n",
       "      <td>5.951166e+16</td>\n",
       "    </tr>\n",
       "    <tr>\n",
       "      <th>442</th>\n",
       "      <td>amenities_{\"Wireless Internet\",Kitchen,\"Buzzer...</td>\n",
       "      <td>4.184812e+16</td>\n",
       "      <td>4.184812e+16</td>\n",
       "    </tr>\n",
       "    <tr>\n",
       "      <th>845</th>\n",
       "      <td>amenities_{Internet,\"Wireless Internet\",Kitche...</td>\n",
       "      <td>4.098212e+16</td>\n",
       "      <td>4.098212e+16</td>\n",
       "    </tr>\n",
       "    <tr>\n",
       "      <th>504</th>\n",
       "      <td>amenities_{\"Wireless Internet\",Kitchen,\"Free P...</td>\n",
       "      <td>-3.782972e+16</td>\n",
       "      <td>3.782972e+16</td>\n",
       "    </tr>\n",
       "    <tr>\n",
       "      <th>383</th>\n",
       "      <td>amenities_{\"Wireless Internet\",\"Free Parking o...</td>\n",
       "      <td>-3.771015e+16</td>\n",
       "      <td>3.771015e+16</td>\n",
       "    </tr>\n",
       "    <tr>\n",
       "      <th>848</th>\n",
       "      <td>amenities_{Internet,\"Wireless Internet\",Kitche...</td>\n",
       "      <td>-3.259085e+16</td>\n",
       "      <td>3.259085e+16</td>\n",
       "    </tr>\n",
       "    <tr>\n",
       "      <th>13</th>\n",
       "      <td>host_location</td>\n",
       "      <td>3.174538e+16</td>\n",
       "      <td>3.174538e+16</td>\n",
       "    </tr>\n",
       "    <tr>\n",
       "      <th>594</th>\n",
       "      <td>amenities_{\"Wireless Internet\",Kitchen,Breakfa...</td>\n",
       "      <td>3.030550e+16</td>\n",
       "      <td>3.030550e+16</td>\n",
       "    </tr>\n",
       "    <tr>\n",
       "      <th>763</th>\n",
       "      <td>amenities_{Internet,\"Wireless Internet\",\"Wheel...</td>\n",
       "      <td>-2.892236e+16</td>\n",
       "      <td>2.892236e+16</td>\n",
       "    </tr>\n",
       "    <tr>\n",
       "      <th>12</th>\n",
       "      <td>host_since</td>\n",
       "      <td>-2.841310e+16</td>\n",
       "      <td>2.841310e+16</td>\n",
       "    </tr>\n",
       "    <tr>\n",
       "      <th>272</th>\n",
       "      <td>amenities_{\"Cable TV\",\"Wireless Internet\",Kitc...</td>\n",
       "      <td>2.807929e+16</td>\n",
       "      <td>2.807929e+16</td>\n",
       "    </tr>\n",
       "    <tr>\n",
       "      <th>14</th>\n",
       "      <td>host_about</td>\n",
       "      <td>2.783245e+16</td>\n",
       "      <td>2.783245e+16</td>\n",
       "    </tr>\n",
       "    <tr>\n",
       "      <th>1170</th>\n",
       "      <td>amenities_{Internet,\"Wireless Internet\",Kitche...</td>\n",
       "      <td>-2.741105e+16</td>\n",
       "      <td>2.741105e+16</td>\n",
       "    </tr>\n",
       "    <tr>\n",
       "      <th>902</th>\n",
       "      <td>amenities_{Internet,\"Wireless Internet\",Kitche...</td>\n",
       "      <td>2.666143e+16</td>\n",
       "      <td>2.666143e+16</td>\n",
       "    </tr>\n",
       "    <tr>\n",
       "      <th>407</th>\n",
       "      <td>amenities_{\"Wireless Internet\",\"Pets live on t...</td>\n",
       "      <td>-2.537303e+16</td>\n",
       "      <td>2.537303e+16</td>\n",
       "    </tr>\n",
       "  </tbody>\n",
       "</table>\n",
       "</div>"
      ],
      "text/plain": [
       "                                                est_int         coefs  \\\n",
       "245   amenities_{\"Cable TV\",\"Wireless Internet\",Kitc...  5.951166e+16   \n",
       "442   amenities_{\"Wireless Internet\",Kitchen,\"Buzzer...  4.184812e+16   \n",
       "845   amenities_{Internet,\"Wireless Internet\",Kitche...  4.098212e+16   \n",
       "504   amenities_{\"Wireless Internet\",Kitchen,\"Free P... -3.782972e+16   \n",
       "383   amenities_{\"Wireless Internet\",\"Free Parking o... -3.771015e+16   \n",
       "848   amenities_{Internet,\"Wireless Internet\",Kitche... -3.259085e+16   \n",
       "13                                        host_location  3.174538e+16   \n",
       "594   amenities_{\"Wireless Internet\",Kitchen,Breakfa...  3.030550e+16   \n",
       "763   amenities_{Internet,\"Wireless Internet\",\"Wheel... -2.892236e+16   \n",
       "12                                           host_since -2.841310e+16   \n",
       "272   amenities_{\"Cable TV\",\"Wireless Internet\",Kitc...  2.807929e+16   \n",
       "14                                           host_about  2.783245e+16   \n",
       "1170  amenities_{Internet,\"Wireless Internet\",Kitche... -2.741105e+16   \n",
       "902   amenities_{Internet,\"Wireless Internet\",Kitche...  2.666143e+16   \n",
       "407   amenities_{\"Wireless Internet\",\"Pets live on t... -2.537303e+16   \n",
       "\n",
       "         abs_coefs  \n",
       "245   5.951166e+16  \n",
       "442   4.184812e+16  \n",
       "845   4.098212e+16  \n",
       "504   3.782972e+16  \n",
       "383   3.771015e+16  \n",
       "848   3.259085e+16  \n",
       "13    3.174538e+16  \n",
       "594   3.030550e+16  \n",
       "763   2.892236e+16  \n",
       "12    2.841310e+16  \n",
       "272   2.807929e+16  \n",
       "14    2.783245e+16  \n",
       "1170  2.741105e+16  \n",
       "902   2.666143e+16  \n",
       "407   2.537303e+16  "
      ]
     },
     "execution_count": 520,
     "metadata": {},
     "output_type": "execute_result"
    }
   ],
   "source": [
    "coefficent.head(15)"
   ]
  },
  {
   "cell_type": "code",
   "execution_count": 525,
   "metadata": {},
   "outputs": [],
   "source": [
    "def coef_ForestRegres(coef, X_Train):\n",
    "    codf = pd.DataFrame()\n",
    "    codf['est_int'] = X_train.columns\n",
    "    codf['coefs'] = fr.feature_importances_\n",
    "    codf['abs_coefs'] = np.abs(fr.feature_importances_)\n",
    "    codf = codf.sort_values('abs_coefs', ascending=False)\n",
    "    return codf"
   ]
  },
  {
   "cell_type": "code",
   "execution_count": 526,
   "metadata": {},
   "outputs": [],
   "source": [
    "coef_fr = coef_ForestRegres(fr.feature_importances_, X_train)"
   ]
  },
  {
   "cell_type": "code",
   "execution_count": 527,
   "metadata": {},
   "outputs": [
    {
     "data": {
      "text/html": [
       "<div>\n",
       "<style scoped>\n",
       "    .dataframe tbody tr th:only-of-type {\n",
       "        vertical-align: middle;\n",
       "    }\n",
       "\n",
       "    .dataframe tbody tr th {\n",
       "        vertical-align: top;\n",
       "    }\n",
       "\n",
       "    .dataframe thead th {\n",
       "        text-align: right;\n",
       "    }\n",
       "</style>\n",
       "<table border=\"1\" class=\"dataframe\">\n",
       "  <thead>\n",
       "    <tr style=\"text-align: right;\">\n",
       "      <th></th>\n",
       "      <th>est_int</th>\n",
       "      <th>coefs</th>\n",
       "      <th>abs_coefs</th>\n",
       "    </tr>\n",
       "  </thead>\n",
       "  <tbody>\n",
       "    <tr>\n",
       "      <th>29</th>\n",
       "      <td>bedrooms</td>\n",
       "      <td>0.346335</td>\n",
       "      <td>0.346335</td>\n",
       "    </tr>\n",
       "    <tr>\n",
       "      <th>32</th>\n",
       "      <td>cleaning_fee</td>\n",
       "      <td>0.074079</td>\n",
       "      <td>0.074079</td>\n",
       "    </tr>\n",
       "    <tr>\n",
       "      <th>28</th>\n",
       "      <td>bathrooms</td>\n",
       "      <td>0.070635</td>\n",
       "      <td>0.070635</td>\n",
       "    </tr>\n",
       "    <tr>\n",
       "      <th>27</th>\n",
       "      <td>accommodates</td>\n",
       "      <td>0.063321</td>\n",
       "      <td>0.063321</td>\n",
       "    </tr>\n",
       "    <tr>\n",
       "      <th>377</th>\n",
       "      <td>amenities_{\"Wireless Internet\",\"Free Parking o...</td>\n",
       "      <td>0.050515</td>\n",
       "      <td>0.050515</td>\n",
       "    </tr>\n",
       "    <tr>\n",
       "      <th>174</th>\n",
       "      <td>room_type_Entire home/apt</td>\n",
       "      <td>0.042703</td>\n",
       "      <td>0.042703</td>\n",
       "    </tr>\n",
       "    <tr>\n",
       "      <th>25</th>\n",
       "      <td>latitude</td>\n",
       "      <td>0.027837</td>\n",
       "      <td>0.027837</td>\n",
       "    </tr>\n",
       "    <tr>\n",
       "      <th>26</th>\n",
       "      <td>longitude</td>\n",
       "      <td>0.017224</td>\n",
       "      <td>0.017224</td>\n",
       "    </tr>\n",
       "    <tr>\n",
       "      <th>68</th>\n",
       "      <td>neighbourhood_cleansed_Belltown</td>\n",
       "      <td>0.014608</td>\n",
       "      <td>0.014608</td>\n",
       "    </tr>\n",
       "    <tr>\n",
       "      <th>31</th>\n",
       "      <td>security_deposit</td>\n",
       "      <td>0.014135</td>\n",
       "      <td>0.014135</td>\n",
       "    </tr>\n",
       "    <tr>\n",
       "      <th>41</th>\n",
       "      <td>availability_365</td>\n",
       "      <td>0.013591</td>\n",
       "      <td>0.013591</td>\n",
       "    </tr>\n",
       "    <tr>\n",
       "      <th>0</th>\n",
       "      <td>id</td>\n",
       "      <td>0.013276</td>\n",
       "      <td>0.013276</td>\n",
       "    </tr>\n",
       "    <tr>\n",
       "      <th>10</th>\n",
       "      <td>host_id</td>\n",
       "      <td>0.011297</td>\n",
       "      <td>0.011297</td>\n",
       "    </tr>\n",
       "    <tr>\n",
       "      <th>691</th>\n",
       "      <td>amenities_{Internet,\"Wireless Internet\",\"Air C...</td>\n",
       "      <td>0.010483</td>\n",
       "      <td>0.010483</td>\n",
       "    </tr>\n",
       "    <tr>\n",
       "      <th>2841</th>\n",
       "      <td>amenities_{TV,Internet,\"Wireless Internet\",\"Wh...</td>\n",
       "      <td>0.007701</td>\n",
       "      <td>0.007701</td>\n",
       "    </tr>\n",
       "  </tbody>\n",
       "</table>\n",
       "</div>"
      ],
      "text/plain": [
       "                                                est_int     coefs  abs_coefs\n",
       "29                                             bedrooms  0.346335   0.346335\n",
       "32                                         cleaning_fee  0.074079   0.074079\n",
       "28                                            bathrooms  0.070635   0.070635\n",
       "27                                         accommodates  0.063321   0.063321\n",
       "377   amenities_{\"Wireless Internet\",\"Free Parking o...  0.050515   0.050515\n",
       "174                           room_type_Entire home/apt  0.042703   0.042703\n",
       "25                                             latitude  0.027837   0.027837\n",
       "26                                            longitude  0.017224   0.017224\n",
       "68                      neighbourhood_cleansed_Belltown  0.014608   0.014608\n",
       "31                                     security_deposit  0.014135   0.014135\n",
       "41                                     availability_365  0.013591   0.013591\n",
       "0                                                    id  0.013276   0.013276\n",
       "10                                              host_id  0.011297   0.011297\n",
       "691   amenities_{Internet,\"Wireless Internet\",\"Air C...  0.010483   0.010483\n",
       "2841  amenities_{TV,Internet,\"Wireless Internet\",\"Wh...  0.007701   0.007701"
      ]
     },
     "execution_count": 527,
     "metadata": {},
     "output_type": "execute_result"
    }
   ],
   "source": [
    "coef_fr.head(15)"
   ]
  },
  {
   "cell_type": "markdown",
   "metadata": {},
   "source": [
    "### Conclusion: \n",
    "\n",
    "Seeing our data coeffient analysis for the linear regression model, we conclude that amenities have a high impact on price as well as host related services.\n",
    "However, in the ForestRegressor model we can conclude that bedrooms, cleaning_fee, bathrooms, amenities(free parking space) and accommodates have the highest impact on price."
   ]
  },
  {
   "cell_type": "markdown",
   "metadata": {},
   "source": [
    "#### Future recomendations: \n",
    "Evaluating other models might give us a further broad view on the data we have."
   ]
  },
  {
   "cell_type": "markdown",
   "metadata": {},
   "source": [
    "#### Some pretty cool reference that helped out:\n",
    "1. https://www.geeksforgeeks.org/exploring-categorical-data/\n",
    "2. https://www.nltk.org/api/nltk.sentiment.html\n",
    "3. https://www.geeksforgeeks.org/python-sentiment-analysis-using-vader/\n",
    "4. https://www.kaggle.com/kakiac/sentiment-analysis-with-nltk\n",
    "5. https://www.analyticsvidhya.com/blog/2018/10/interpret-random-forest-model-machine-learning-programmers/\n",
    "6. https://towardsdatascience.com/building-a-logistic-regression-in-python-step-by-step-becd4d56c9c8\n",
    "7. https://datascience.stackexchange.com/questions/33286/how-to-print-a-confusion-matrix-from-random-forests-in-python\n",
    "8. https://stackoverflow.com/questions/29148355/how-to-assess-random-forests-classifier-performance\n",
    "9. https://stackoverflow.com/questions/26210471/scikit-learn-gridsearch-giving-valueerror-multiclass-format-is-not-supported/26210645\n",
    "10. https://scikit-learn.org/stable/modules/generated/sklearn.linear_model.LogisticRegression.html\n",
    "11. https://scikit-learn.org/stable/modules/generated/sklearn.linear_model.LinearRegression.html\n",
    "12. https://github.com/rebeccaebarnes/DSND-Project-4\n",
    "13. https://github.com/bdfaus/airbnb\n",
    "14. https://realpython.com/python-data-cleaning-numpy-pandas/\n",
    "15. https://github.com/mramshaw/Data-Cleaning\n",
    "16. https://github.com/AntoineGuillot2/Linear-Regression-Python\n",
    "17. https://github.com/collections/machine-learning\n",
    "18. https://github.com/nderkach/airbnb-python\n",
    "19. https://github.com/alanpryoga/python-airbnb-data-analysis\n",
    "20. https://sergilehkyi.com/cleaning-and-preparing-data-in-python/\n",
    "21. https://www.dataquest.io/blog/machine-learning-preparing-data/\n",
    "22. https://machinelearningmastery.com/prepare-data-machine-learning-python-scikit-learn/\n",
    "23. https://www.analyticsvidhya.com/blog/2019/08/11-important-model-evaluation-error-metrics/\n",
    "24. https://scikit-learn.org/stable/modules/generated/sklearn.ensemble.RandomForestRegressor.html\n",
    "25. https://stackabuse.com/random-forest-algorithm-with-python-and-scikit-learn/\n",
    "26. https://towardsdatascience.com/random-forest-in-python-24d0893d51c0\n",
    "27. https://gdcoder.com/random-forest-regressor-explained-in-depth/\n",
    "\n"
   ]
  },
  {
   "cell_type": "markdown",
   "metadata": {},
   "source": [
    "Fin~"
   ]
  }
 ],
 "metadata": {
  "kernelspec": {
   "display_name": "Python 3",
   "language": "python",
   "name": "python3"
  },
  "language_info": {
   "codemirror_mode": {
    "name": "ipython",
    "version": 3
   },
   "file_extension": ".py",
   "mimetype": "text/x-python",
   "name": "python",
   "nbconvert_exporter": "python",
   "pygments_lexer": "ipython3",
   "version": "3.7.1"
  }
 },
 "nbformat": 4,
 "nbformat_minor": 2
}
